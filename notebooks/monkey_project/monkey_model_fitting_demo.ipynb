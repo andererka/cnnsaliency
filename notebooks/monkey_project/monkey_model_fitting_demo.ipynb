{
 "cells": [
  {
   "cell_type": "markdown",
   "metadata": {},
   "source": [
    "## Example Notebook "
   ]
  },
  {
   "cell_type": "markdown",
   "metadata": {},
   "source": [
    "### Requirements"
   ]
  },
  {
   "cell_type": "markdown",
   "metadata": {},
   "source": [
    "# Imports"
   ]
  },
  {
   "cell_type": "markdown",
   "metadata": {},
   "source": [
    "make sure to install all required packages. dependencies are listed in the dockerfile above. If necessary, install packages within the environment\n"
   ]
  },
  {
   "cell_type": "code",
   "execution_count": 9,
   "metadata": {},
   "outputs": [
    {
     "name": "stdout",
     "output_type": "stream",
     "text": [
      "The autoreload extension is already loaded. To reload it, use:\n",
      "  %reload_ext autoreload\n"
     ]
    }
   ],
   "source": [
    "%load_ext autoreload\n",
    "%autoreload \n",
    "\n",
    "import datajoint as dj\n",
    "dj.config['enable_python_native_blobs'] = True\n",
    "\n",
    "\n",
    "dj.config['database.user']= 'kanderer'\n",
    "dj.config['database.password']= 'enamel-vendetta-deodorant'\n",
    "\n",
    "\n",
    "schema_name = 'nnfabrik_monkey_saliency'\n",
    "\n",
    "schema = dj.schema(schema_name, locals())\n",
    "dj.config['nnfabrik.schema_name'] = schema_name\n"
   ]
  },
  {
   "cell_type": "code",
   "execution_count": 10,
   "metadata": {},
   "outputs": [],
   "source": [
    "import torch\n",
    "\n",
    "import nnfabrik\n",
    "from nnfabrik import builder\n",
    "\n",
    "\n",
    "import numpy as np\n",
    "import pickle\n",
    "import os\n",
    "\n",
    "from os import listdir\n",
    "from os.path import isfile, join\n",
    "\n",
    "import matplotlib.pyplot as plt\n",
    "\n",
    "import nnvision\n",
    "\n",
    "from nnfabrik.main import *"
   ]
  },
  {
   "cell_type": "code",
   "execution_count": null,
   "metadata": {},
   "outputs": [],
   "source": []
  },
  {
   "cell_type": "markdown",
   "metadata": {},
   "source": [
    "# NNfabrik intro: Using the builder to build the dataloader objects, models, trainer"
   ]
  },
  {
   "cell_type": "code",
   "execution_count": 11,
   "metadata": {},
   "outputs": [
    {
     "data": {
      "text/plain": [
       "['image_classification', 'monkey', 'mouse', 'fetched_from_attach']"
      ]
     },
     "execution_count": 11,
     "metadata": {},
     "output_type": "execute_result"
    }
   ],
   "source": [
    "# here's where the data is on the server:\n",
    "os.listdir('/data')"
   ]
  },
  {
   "cell_type": "code",
   "execution_count": 19,
   "metadata": {},
   "outputs": [
    {
     "name": "stdout",
     "output_type": "stream",
     "text": [
      "/data/monkey/toliaslab/CSRF19_V4/images_saliency\n"
     ]
    }
   ],
   "source": [
    "#### loading monkey data\n",
    "\n",
    "basepath = '/data/monkey/toliaslab/CSRF19_V4'\n",
    "neuronal_data_path = os.path.join(basepath, 'neuronal_data/')\n",
    "neuronal_data_files = [neuronal_data_path + f for f in listdir(neuronal_data_path) if isfile(join(neuronal_data_path, f))]\n",
    "image_cache_path = os.path.join(basepath, 'images')\n",
    "\n",
    "saliency_cache_path = os.path.join(basepath, 'images_saliency')\n",
    "print(saliency_cache_path)"
   ]
  },
  {
   "cell_type": "code",
   "execution_count": null,
   "metadata": {},
   "outputs": [],
   "source": []
  },
  {
   "cell_type": "code",
   "execution_count": null,
   "metadata": {},
   "outputs": [],
   "source": []
  },
  {
   "cell_type": "code",
   "execution_count": 13,
   "metadata": {},
   "outputs": [
    {
     "name": "stdout",
     "output_type": "stream",
     "text": [
      "['CSRF19_V4_3646657276979.pickle', '.ipynb_checkpoints', 'CSRF19_V4_3647617982355.pickle', 'CSRF19_V4_3650037309346.pickle', 'CSRF19_V4_3653924870701.pickle', 'CSRF19_V4_3646747773987.pickle', 'CSRF19_V4_3653578665399.pickle', 'CSRF19_V4_3648051669051.pickle', 'CSRF19_V4_3654009687031.pickle', 'CSRF19_V4_3653061170515.pickle', 'CSRF19_V4_3649689088057.pickle', 'CSRF19_V4_3647531807425.pickle', 'CSRF19_V4_3652885366025.pickle', 'CSRF19_V4_3652197206019.pickle', 'CSRF19_V4_3646924284383.pickle', 'CSRF19_V4_3648221742562.pickle', 'CSRF19_V4_3646222772876.pickle', 'CSRF19_V4_3651417046988.pickle', 'CSRF19_V4_3647439534447.pickle', 'CSRF19_V4_3646146362280.pickle', 'CSRF19_V4_3649771255234.pickle', 'CSRF19_V4_3653226873615.pickle', 'CSRF19_V4_3646401671909.pickle', 'CSRF19_V4_3649252123347.pickle', 'CSRF19_V4_3645713184967.pickle', 'CSRF19_V4_3648644839726.pickle', 'CSRF19_V4_3653320713405.pickle', 'CSRF19_V4_3649169411059.pickle', 'CSRF19_V4_3654087847388.pickle', 'CSRF19_V4_3648475457626.pickle', 'CSRF19_V4_3650459721914.pickle', 'CSRF19_V4_3646321567215.pickle']\n"
     ]
    }
   ],
   "source": [
    "#print(image_cache_path)\n",
    "print(listdir(neuronal_data_path))"
   ]
  },
  {
   "cell_type": "code",
   "execution_count": 20,
   "metadata": {},
   "outputs": [],
   "source": [
    "# Specifying the dataset function: its defined in nnvision/datasets, and has to present in the __init__.py there.\n",
    "dataset_fn = 'nnsaliency.datasets.monkey_loaders.monkey_static_loader'\n",
    "dataset_config = {'dataset': 'CSRF_V4',\n",
    "  'neuronal_data_files': ['/data/monkey/toliaslab/CSRF19_V4/neuronal_data/CSRF19_V4_3645713184967.pickle',\n",
    "   '/data/monkey/toliaslab/CSRF19_V4/neuronal_data/CSRF19_V4_3646146362280.pickle',\n",
    "   '/data/monkey/toliaslab/CSRF19_V4/neuronal_data/CSRF19_V4_3646222772876.pickle',\n",
    "   '/data/monkey/toliaslab/CSRF19_V4/neuronal_data/CSRF19_V4_3646321567215.pickle',\n",
    "   '/data/monkey/toliaslab/CSRF19_V4/neuronal_data/CSRF19_V4_3646401671909.pickle',\n",
    "   '/data/monkey/toliaslab/CSRF19_V4/neuronal_data/CSRF19_V4_3646657276979.pickle',\n",
    "   '/data/monkey/toliaslab/CSRF19_V4/neuronal_data/CSRF19_V4_3646747773987.pickle',\n",
    "   '/data/monkey/toliaslab/CSRF19_V4/neuronal_data/CSRF19_V4_3646924284383.pickle',\n",
    "   '/data/monkey/toliaslab/CSRF19_V4/neuronal_data/CSRF19_V4_3647439534447.pickle',\n",
    "   '/data/monkey/toliaslab/CSRF19_V4/neuronal_data/CSRF19_V4_3647531807425.pickle',\n",
    "   '/data/monkey/toliaslab/CSRF19_V4/neuronal_data/CSRF19_V4_3647617982355.pickle',\n",
    "   '/data/monkey/toliaslab/CSRF19_V4/neuronal_data/CSRF19_V4_3648051669051.pickle',\n",
    "   '/data/monkey/toliaslab/CSRF19_V4/neuronal_data/CSRF19_V4_3648221742562.pickle',\n",
    "   '/data/monkey/toliaslab/CSRF19_V4/neuronal_data/CSRF19_V4_3648475457626.pickle',\n",
    "   '/data/monkey/toliaslab/CSRF19_V4/neuronal_data/CSRF19_V4_3648644839726.pickle',\n",
    "   '/data/monkey/toliaslab/CSRF19_V4/neuronal_data/CSRF19_V4_3649169411059.pickle',\n",
    "   '/data/monkey/toliaslab/CSRF19_V4/neuronal_data/CSRF19_V4_3649252123347.pickle',\n",
    "   '/data/monkey/toliaslab/CSRF19_V4/neuronal_data/CSRF19_V4_3649689088057.pickle',\n",
    "   '/data/monkey/toliaslab/CSRF19_V4/neuronal_data/CSRF19_V4_3649771255234.pickle',\n",
    "   '/data/monkey/toliaslab/CSRF19_V4/neuronal_data/CSRF19_V4_3650037309346.pickle',\n",
    "   '/data/monkey/toliaslab/CSRF19_V4/neuronal_data/CSRF19_V4_3650459721914.pickle',\n",
    "   '/data/monkey/toliaslab/CSRF19_V4/neuronal_data/CSRF19_V4_3651417046988.pickle',\n",
    "   '/data/monkey/toliaslab/CSRF19_V4/neuronal_data/CSRF19_V4_3652197206019.pickle',\n",
    "   '/data/monkey/toliaslab/CSRF19_V4/neuronal_data/CSRF19_V4_3652885366025.pickle',\n",
    "   '/data/monkey/toliaslab/CSRF19_V4/neuronal_data/CSRF19_V4_3653061170515.pickle',\n",
    "   '/data/monkey/toliaslab/CSRF19_V4/neuronal_data/CSRF19_V4_3653226873615.pickle',\n",
    "   '/data/monkey/toliaslab/CSRF19_V4/neuronal_data/CSRF19_V4_3653320713405.pickle',\n",
    "   '/data/monkey/toliaslab/CSRF19_V4/neuronal_data/CSRF19_V4_3653578665399.pickle',\n",
    "   '/data/monkey/toliaslab/CSRF19_V4/neuronal_data/CSRF19_V4_3653924870701.pickle',\n",
    "   '/data/monkey/toliaslab/CSRF19_V4/neuronal_data/CSRF19_V4_3654009687031.pickle',\n",
    "   '/data/monkey/toliaslab/CSRF19_V4/neuronal_data/CSRF19_V4_3654087847388.pickle'],\n",
    "  'image_cache_path': '/data/monkey/toliaslab/CSRF19_V4/images/',\n",
    "  'crop': [(68, 0), (126, 126)],\n",
    "  'subsample': 1,\n",
    "  'scale': 0.4,\n",
    "  'seed': 1000,\n",
    "  'batch_size': 64,\n",
    "  'time_bins_sum': (3, 4, 5, 6, 7, 8, 9, 10, 11)\n",
    "                 }"
   ]
  },
  {
   "cell_type": "code",
   "execution_count": null,
   "metadata": {},
   "outputs": [],
   "source": []
  },
  {
   "cell_type": "code",
   "execution_count": 21,
   "metadata": {},
   "outputs": [],
   "source": [
    "dataloaders = builder.get_data(dataset_fn, dataset_config)"
   ]
  },
  {
   "cell_type": "code",
   "execution_count": null,
   "metadata": {},
   "outputs": [],
   "source": []
  },
  {
   "cell_type": "code",
   "execution_count": 22,
   "metadata": {},
   "outputs": [
    {
     "name": "stdout",
     "output_type": "stream",
     "text": [
      "dict_keys(['3645713184967', '3646146362280', '3646222772876', '3646321567215', '3646401671909', '3646657276979', '3646747773987', '3646924284383', '3647439534447', '3647531807425', '3647617982355', '3648051669051', '3648221742562', '3648475457626', '3648644839726', '3649169411059', '3649252123347', '3649689088057', '3649771255234', '3650037309346', '3650459721914', '3651417046988', '3652197206019', '3652885366025', '3653061170515', '3653226873615', '3653320713405', '3653578665399', '3653924870701', '3654009687031', '3654087847388'])\n"
     ]
    }
   ],
   "source": [
    "print(dataloaders[\"validation\"].keys())"
   ]
  },
  {
   "cell_type": "code",
   "execution_count": null,
   "metadata": {},
   "outputs": [],
   "source": []
  },
  {
   "cell_type": "markdown",
   "metadata": {},
   "source": [
    "## Dataloaders"
   ]
  },
  {
   "cell_type": "code",
   "execution_count": null,
   "metadata": {},
   "outputs": [],
   "source": []
  },
  {
   "cell_type": "markdown",
   "metadata": {},
   "source": [
    "NNfabrik expects dataloaders to be nested dictionarys with actual PyTorch DataLoader Objects at the second Tier. The First Tier will be \"train\", \"validation\", and \"test\". The second Tier will be \"session_key\": DataLoader. So each dataset is either comprised of one or multiple sessions, with a session ID as the dictionary key to its dataloader.\n",
    "Let's have a look:"
   ]
  },
  {
   "cell_type": "code",
   "execution_count": 23,
   "metadata": {},
   "outputs": [
    {
     "data": {
      "text/plain": [
       "{'train': {'3645713184967': <torch.utils.data.dataloader.DataLoader at 0x7f77201b6580>,\n",
       "  '3646146362280': <torch.utils.data.dataloader.DataLoader at 0x7f77201c7070>,\n",
       "  '3646222772876': <torch.utils.data.dataloader.DataLoader at 0x7f77201c7f40>,\n",
       "  '3646321567215': <torch.utils.data.dataloader.DataLoader at 0x7f77201c8e20>,\n",
       "  '3646401671909': <torch.utils.data.dataloader.DataLoader at 0x7f77201b6490>,\n",
       "  '3646657276979': <torch.utils.data.dataloader.DataLoader at 0x7f77201c6130>,\n",
       "  '3646747773987': <torch.utils.data.dataloader.DataLoader at 0x7f77201c6e20>,\n",
       "  '3646924284383': <torch.utils.data.dataloader.DataLoader at 0x7f77201cbf70>,\n",
       "  '3647439534447': <torch.utils.data.dataloader.DataLoader at 0x7f77201cde50>,\n",
       "  '3647531807425': <torch.utils.data.dataloader.DataLoader at 0x7f77201d0d30>,\n",
       "  '3647617982355': <torch.utils.data.dataloader.DataLoader at 0x7f77201d3bb0>,\n",
       "  '3648051669051': <torch.utils.data.dataloader.DataLoader at 0x7f77201d5a90>,\n",
       "  '3648221742562': <torch.utils.data.dataloader.DataLoader at 0x7f77201af970>,\n",
       "  '3648475457626': <torch.utils.data.dataloader.DataLoader at 0x7f77201dc820>,\n",
       "  '3648644839726': <torch.utils.data.dataloader.DataLoader at 0x7f77201e1700>,\n",
       "  '3649169411059': <torch.utils.data.dataloader.DataLoader at 0x7f77201e55e0>,\n",
       "  '3649252123347': <torch.utils.data.dataloader.DataLoader at 0x7f77201e74c0>,\n",
       "  '3649689088057': <torch.utils.data.dataloader.DataLoader at 0x7f76835ac370>,\n",
       "  '3649771255234': <torch.utils.data.dataloader.DataLoader at 0x7f76835b0250>,\n",
       "  '3650037309346': <torch.utils.data.dataloader.DataLoader at 0x7f76835b2130>,\n",
       "  '3650459721914': <torch.utils.data.dataloader.DataLoader at 0x7f76835b2e20>,\n",
       "  '3651417046988': <torch.utils.data.dataloader.DataLoader at 0x7f76835b6d00>,\n",
       "  '3652197206019': <torch.utils.data.dataloader.DataLoader at 0x7f76835baca0>,\n",
       "  '3652885366025': <torch.utils.data.dataloader.DataLoader at 0x7f76835bda60>,\n",
       "  '3653061170515': <torch.utils.data.dataloader.DataLoader at 0x7f76835c2940>,\n",
       "  '3653226873615': <torch.utils.data.dataloader.DataLoader at 0x7f76835c67f0>,\n",
       "  '3653320713405': <torch.utils.data.dataloader.DataLoader at 0x7f76835c96d0>,\n",
       "  '3653578665399': <torch.utils.data.dataloader.DataLoader at 0x7f76835cc5b0>,\n",
       "  '3653924870701': <torch.utils.data.dataloader.DataLoader at 0x7f76835d0490>,\n",
       "  '3654009687031': <torch.utils.data.dataloader.DataLoader at 0x7f76835d4340>,\n",
       "  '3654087847388': <torch.utils.data.dataloader.DataLoader at 0x7f76835d8220>},\n",
       " 'validation': {'3645713184967': <torch.utils.data.dataloader.DataLoader at 0x7f77201b6d30>,\n",
       "  '3646146362280': <torch.utils.data.dataloader.DataLoader at 0x7f77201c74f0>,\n",
       "  '3646222772876': <torch.utils.data.dataloader.DataLoader at 0x7f77201c83d0>,\n",
       "  '3646321567215': <torch.utils.data.dataloader.DataLoader at 0x7f774f095fa0>,\n",
       "  '3646401671909': <torch.utils.data.dataloader.DataLoader at 0x7f77201b6310>,\n",
       "  '3646657276979': <torch.utils.data.dataloader.DataLoader at 0x7f77201c6640>,\n",
       "  '3646747773987': <torch.utils.data.dataloader.DataLoader at 0x7f77201cb520>,\n",
       "  '3646924284383': <torch.utils.data.dataloader.DataLoader at 0x7f77201cd400>,\n",
       "  '3647439534447': <torch.utils.data.dataloader.DataLoader at 0x7f77201d02e0>,\n",
       "  '3647531807425': <torch.utils.data.dataloader.DataLoader at 0x7f77201d3190>,\n",
       "  '3647617982355': <torch.utils.data.dataloader.DataLoader at 0x7f77201d5070>,\n",
       "  '3648051669051': <torch.utils.data.dataloader.DataLoader at 0x7f77201d5fd0>,\n",
       "  '3648221742562': <torch.utils.data.dataloader.DataLoader at 0x7f77201afeb0>,\n",
       "  '3648475457626': <torch.utils.data.dataloader.DataLoader at 0x7f77201dcd30>,\n",
       "  '3648644839726': <torch.utils.data.dataloader.DataLoader at 0x7f77201e1c10>,\n",
       "  '3649169411059': <torch.utils.data.dataloader.DataLoader at 0x7f77201e5af0>,\n",
       "  '3649252123347': <torch.utils.data.dataloader.DataLoader at 0x7f77201e79d0>,\n",
       "  '3649689088057': <torch.utils.data.dataloader.DataLoader at 0x7f76835ac880>,\n",
       "  '3649771255234': <torch.utils.data.dataloader.DataLoader at 0x7f76835b0760>,\n",
       "  '3650037309346': <torch.utils.data.dataloader.DataLoader at 0x7f76835b2640>,\n",
       "  '3650459721914': <torch.utils.data.dataloader.DataLoader at 0x7f774f095970>,\n",
       "  '3651417046988': <torch.utils.data.dataloader.DataLoader at 0x7f76835ba160>,\n",
       "  '3652197206019': <torch.utils.data.dataloader.DataLoader at 0x7f76835bd040>,\n",
       "  '3652885366025': <torch.utils.data.dataloader.DataLoader at 0x7f76835bdfa0>,\n",
       "  '3653061170515': <torch.utils.data.dataloader.DataLoader at 0x7f76835c2e80>,\n",
       "  '3653226873615': <torch.utils.data.dataloader.DataLoader at 0x7f76835c6d00>,\n",
       "  '3653320713405': <torch.utils.data.dataloader.DataLoader at 0x7f76835c9be0>,\n",
       "  '3653578665399': <torch.utils.data.dataloader.DataLoader at 0x7f76835ccac0>,\n",
       "  '3653924870701': <torch.utils.data.dataloader.DataLoader at 0x7f76835d09a0>,\n",
       "  '3654009687031': <torch.utils.data.dataloader.DataLoader at 0x7f76835d4850>,\n",
       "  '3654087847388': <torch.utils.data.dataloader.DataLoader at 0x7f76835d8730>},\n",
       " 'test': {'3645713184967': <torch.utils.data.dataloader.DataLoader at 0x7f77201b6910>,\n",
       "  '3646146362280': <torch.utils.data.dataloader.DataLoader at 0x7f77201c7c70>,\n",
       "  '3646222772876': <torch.utils.data.dataloader.DataLoader at 0x7f77201c8b50>,\n",
       "  '3646321567215': <torch.utils.data.dataloader.DataLoader at 0x7f77201be580>,\n",
       "  '3646401671909': <torch.utils.data.dataloader.DataLoader at 0x7f77201bec70>,\n",
       "  '3646657276979': <torch.utils.data.dataloader.DataLoader at 0x7f77201c6dc0>,\n",
       "  '3646747773987': <torch.utils.data.dataloader.DataLoader at 0x7f77201cbca0>,\n",
       "  '3646924284383': <torch.utils.data.dataloader.DataLoader at 0x7f77201cdb80>,\n",
       "  '3647439534447': <torch.utils.data.dataloader.DataLoader at 0x7f77201d0a60>,\n",
       "  '3647531807425': <torch.utils.data.dataloader.DataLoader at 0x7f77201d3910>,\n",
       "  '3647617982355': <torch.utils.data.dataloader.DataLoader at 0x7f77201d57f0>,\n",
       "  '3648051669051': <torch.utils.data.dataloader.DataLoader at 0x7f77201af6d0>,\n",
       "  '3648221742562': <torch.utils.data.dataloader.DataLoader at 0x7f77201dc550>,\n",
       "  '3648475457626': <torch.utils.data.dataloader.DataLoader at 0x7f77201e1430>,\n",
       "  '3648644839726': <torch.utils.data.dataloader.DataLoader at 0x7f77201e5310>,\n",
       "  '3649169411059': <torch.utils.data.dataloader.DataLoader at 0x7f77201e71f0>,\n",
       "  '3649252123347': <torch.utils.data.dataloader.DataLoader at 0x7f76835ac0d0>,\n",
       "  '3649689088057': <torch.utils.data.dataloader.DataLoader at 0x7f76835ac7f0>,\n",
       "  '3649771255234': <torch.utils.data.dataloader.DataLoader at 0x7f76835b0ee0>,\n",
       "  '3650037309346': <torch.utils.data.dataloader.DataLoader at 0x7f76835b2dc0>,\n",
       "  '3650459721914': <torch.utils.data.dataloader.DataLoader at 0x7f76835b6a90>,\n",
       "  '3651417046988': <torch.utils.data.dataloader.DataLoader at 0x7f76835ba8e0>,\n",
       "  '3652197206019': <torch.utils.data.dataloader.DataLoader at 0x7f76835bd7c0>,\n",
       "  '3652885366025': <torch.utils.data.dataloader.DataLoader at 0x7f76835c26a0>,\n",
       "  '3653061170515': <torch.utils.data.dataloader.DataLoader at 0x7f76835c6520>,\n",
       "  '3653226873615': <torch.utils.data.dataloader.DataLoader at 0x7f76835c9400>,\n",
       "  '3653320713405': <torch.utils.data.dataloader.DataLoader at 0x7f76835cc2e0>,\n",
       "  '3653578665399': <torch.utils.data.dataloader.DataLoader at 0x7f76835d01c0>,\n",
       "  '3653924870701': <torch.utils.data.dataloader.DataLoader at 0x7f76835d40a0>,\n",
       "  '3654009687031': <torch.utils.data.dataloader.DataLoader at 0x7f76835d4fd0>,\n",
       "  '3654087847388': <torch.utils.data.dataloader.DataLoader at 0x7f76835d8eb0>}}"
      ]
     },
     "execution_count": 23,
     "metadata": {},
     "output_type": "execute_result"
    }
   ],
   "source": [
    "dataloaders\n"
   ]
  },
  {
   "cell_type": "code",
   "execution_count": 24,
   "metadata": {},
   "outputs": [],
   "source": [
    "# so we have 5 dataloaders, for these 5 recording sessions\n"
   ]
  },
  {
   "cell_type": "code",
   "execution_count": 25,
   "metadata": {},
   "outputs": [
    {
     "name": "stdout",
     "output_type": "stream",
     "text": [
      "3645713184967\n"
     ]
    }
   ],
   "source": [
    "# get first data_key\n",
    "first_session_ID = list((dataloaders[\"train\"].keys()))[0]\n",
    "print(first_session_ID)"
   ]
  },
  {
   "cell_type": "code",
   "execution_count": 26,
   "metadata": {},
   "outputs": [
    {
     "data": {
      "text/plain": [
       "<torch.utils.data.dataloader.DataLoader at 0x7f77201b6580>"
      ]
     },
     "execution_count": 26,
     "metadata": {},
     "output_type": "execute_result"
    }
   ],
   "source": [
    "# this is an actual dataloader\n",
    "dataloaders[\"train\"][first_session_ID]"
   ]
  },
  {
   "cell_type": "code",
   "execution_count": 27,
   "metadata": {},
   "outputs": [
    {
     "data": {
      "text/plain": [
       "torch.Size([64, 1, 67, 67])"
      ]
     },
     "execution_count": 27,
     "metadata": {},
     "output_type": "execute_result"
    }
   ],
   "source": [
    "# let's get a batch from the dataloader\n",
    "a_dataloader = dataloaders[\"train\"][first_session_ID]\n",
    "batch = next(iter(a_dataloader))\n",
    "batch.inputs.shape"
   ]
  },
  {
   "cell_type": "code",
   "execution_count": 28,
   "metadata": {},
   "outputs": [],
   "source": [
    "# let's get a batch from the dataloader\n",
    "a_dataloader2 = dataloaders[\"train\"][first_session_ID]\n",
    "batch2 = next(iter(a_dataloader))\n"
   ]
  },
  {
   "cell_type": "code",
   "execution_count": 29,
   "metadata": {},
   "outputs": [
    {
     "data": {
      "text/plain": [
       "nnvision.datasets.utility.DataPoint"
      ]
     },
     "execution_count": 29,
     "metadata": {},
     "output_type": "execute_result"
    }
   ],
   "source": [
    "# the batch is a namedTuple, with two fields:\n",
    "type(batch)"
   ]
  },
  {
   "cell_type": "code",
   "execution_count": null,
   "metadata": {},
   "outputs": [],
   "source": []
  },
  {
   "cell_type": "code",
   "execution_count": 30,
   "metadata": {},
   "outputs": [
    {
     "data": {
      "text/plain": [
       "torch.Size([64, 1, 67, 67])"
      ]
     },
     "execution_count": 30,
     "metadata": {},
     "output_type": "execute_result"
    }
   ],
   "source": [
    "# the inputs, which are the images\n",
    "batch.inputs.shape"
   ]
  },
  {
   "cell_type": "code",
   "execution_count": 31,
   "metadata": {},
   "outputs": [
    {
     "data": {
      "text/plain": [
       "torch.Size([64, 14])"
      ]
     },
     "execution_count": 31,
     "metadata": {},
     "output_type": "execute_result"
    }
   ],
   "source": [
    "# and the targets, which are the neuronal responses. So we have a batch size of 128. And 32 Neurons.\n",
    "batch.targets.shape"
   ]
  },
  {
   "cell_type": "code",
   "execution_count": 32,
   "metadata": {},
   "outputs": [
    {
     "data": {
      "text/plain": [
       "[<matplotlib.lines.Line2D at 0x7f772013ac10>]"
      ]
     },
     "execution_count": 32,
     "metadata": {},
     "output_type": "execute_result"
    },
    {
     "data": {
      "image/png": "[encoded data removed]",
      "text/plain": [
       "<Figure size 432x288 with 1 Axes>"
      ]
     },
     "metadata": {
      "needs_background": "light"
     },
     "output_type": "display_data"
    }
   ],
   "source": [
    "# Neuron 0 and it's firing across all the 128 images. It seems to like certain images a lot.\n",
    "plt.plot(batch.targets[:,0])"
   ]
  },
  {
   "cell_type": "code",
   "execution_count": 33,
   "metadata": {},
   "outputs": [],
   "source": [
    "best_image_index = torch.argmax(batch.targets[:,0])\n",
    "best_image =batch.inputs[best_image_index]"
   ]
  },
  {
   "cell_type": "code",
   "execution_count": 34,
   "metadata": {},
   "outputs": [
    {
     "ename": "IndexError",
     "evalue": "index 1 is out of bounds for axis 0 with size 1",
     "output_type": "error",
     "traceback": [
      "\u001B[0;31m---------------------------------------------------------------------------\u001B[0m",
      "\u001B[0;31mIndexError\u001B[0m                                Traceback (most recent call last)",
      "\u001B[0;32m<ipython-input-34-b4a906e8ee53>\u001B[0m in \u001B[0;36m<module>\u001B[0;34m\u001B[0m\n\u001B[1;32m      6\u001B[0m \u001B[0;32mfor\u001B[0m \u001B[0mi\u001B[0m \u001B[0;32min\u001B[0m \u001B[0mrange\u001B[0m\u001B[0;34m(\u001B[0m\u001B[0;36m0\u001B[0m\u001B[0;34m,\u001B[0m\u001B[0;36m5\u001B[0m\u001B[0;34m)\u001B[0m\u001B[0;34m:\u001B[0m\u001B[0;34m\u001B[0m\u001B[0;34m\u001B[0m\u001B[0m\n\u001B[1;32m      7\u001B[0m     \u001B[0maxs\u001B[0m\u001B[0;34m[\u001B[0m\u001B[0;36m0\u001B[0m\u001B[0;34m]\u001B[0m\u001B[0;34m[\u001B[0m\u001B[0mi\u001B[0m\u001B[0;34m]\u001B[0m\u001B[0;34m.\u001B[0m\u001B[0mimshow\u001B[0m\u001B[0;34m(\u001B[0m\u001B[0mbatch\u001B[0m\u001B[0;34m.\u001B[0m\u001B[0minputs\u001B[0m\u001B[0;34m[\u001B[0m\u001B[0mi\u001B[0m\u001B[0;34m]\u001B[0m\u001B[0;34m.\u001B[0m\u001B[0mnumpy\u001B[0m\u001B[0;34m(\u001B[0m\u001B[0;34m)\u001B[0m\u001B[0;34m[\u001B[0m\u001B[0;36m0\u001B[0m\u001B[0;34m,\u001B[0m\u001B[0;34m:\u001B[0m\u001B[0;34m,\u001B[0m\u001B[0;34m:\u001B[0m\u001B[0;34m]\u001B[0m\u001B[0;34m.\u001B[0m\u001B[0msqueeze\u001B[0m\u001B[0;34m(\u001B[0m\u001B[0;34m)\u001B[0m\u001B[0;34m,\u001B[0m \u001B[0mcmap\u001B[0m\u001B[0;34m=\u001B[0m\u001B[0;34m\"gray\"\u001B[0m \u001B[0;34m)\u001B[0m\u001B[0;34m\u001B[0m\u001B[0;34m\u001B[0m\u001B[0m\n\u001B[0;32m----> 8\u001B[0;31m     \u001B[0maxs\u001B[0m\u001B[0;34m[\u001B[0m\u001B[0;36m1\u001B[0m\u001B[0;34m]\u001B[0m\u001B[0;34m[\u001B[0m\u001B[0mi\u001B[0m\u001B[0;34m]\u001B[0m\u001B[0;34m.\u001B[0m\u001B[0mimshow\u001B[0m\u001B[0;34m(\u001B[0m\u001B[0mbatch\u001B[0m\u001B[0;34m.\u001B[0m\u001B[0minputs\u001B[0m\u001B[0;34m[\u001B[0m\u001B[0mi\u001B[0m\u001B[0;34m]\u001B[0m\u001B[0;34m.\u001B[0m\u001B[0mnumpy\u001B[0m\u001B[0;34m(\u001B[0m\u001B[0;34m)\u001B[0m\u001B[0;34m[\u001B[0m\u001B[0;36m1\u001B[0m\u001B[0;34m,\u001B[0m\u001B[0;34m:\u001B[0m\u001B[0;34m,\u001B[0m\u001B[0;34m:\u001B[0m\u001B[0;34m]\u001B[0m\u001B[0;34m.\u001B[0m\u001B[0msqueeze\u001B[0m\u001B[0;34m(\u001B[0m\u001B[0;34m)\u001B[0m\u001B[0;34m)\u001B[0m\u001B[0;34m\u001B[0m\u001B[0;34m\u001B[0m\u001B[0m\n\u001B[0m\u001B[1;32m      9\u001B[0m \u001B[0;32mfor\u001B[0m \u001B[0mi\u001B[0m \u001B[0;32min\u001B[0m \u001B[0mrange\u001B[0m\u001B[0;34m(\u001B[0m\u001B[0;36m0\u001B[0m\u001B[0;34m,\u001B[0m \u001B[0;36m5\u001B[0m\u001B[0;34m)\u001B[0m\u001B[0;34m:\u001B[0m\u001B[0;34m\u001B[0m\u001B[0;34m\u001B[0m\u001B[0m\n\u001B[1;32m     10\u001B[0m     \u001B[0maxs\u001B[0m\u001B[0;34m[\u001B[0m\u001B[0;36m2\u001B[0m\u001B[0;34m]\u001B[0m\u001B[0;34m[\u001B[0m\u001B[0mi\u001B[0m\u001B[0;34m]\u001B[0m\u001B[0;34m.\u001B[0m\u001B[0mimshow\u001B[0m\u001B[0;34m(\u001B[0m\u001B[0mbatch\u001B[0m\u001B[0;34m.\u001B[0m\u001B[0minputs\u001B[0m\u001B[0;34m[\u001B[0m\u001B[0mi\u001B[0m\u001B[0;34m+\u001B[0m\u001B[0;36m5\u001B[0m\u001B[0;34m]\u001B[0m\u001B[0;34m.\u001B[0m\u001B[0mnumpy\u001B[0m\u001B[0;34m(\u001B[0m\u001B[0;34m)\u001B[0m\u001B[0;34m[\u001B[0m\u001B[0;36m0\u001B[0m\u001B[0;34m,\u001B[0m\u001B[0;34m:\u001B[0m\u001B[0;34m,\u001B[0m\u001B[0;34m:\u001B[0m\u001B[0;34m]\u001B[0m\u001B[0;34m.\u001B[0m\u001B[0msqueeze\u001B[0m\u001B[0;34m(\u001B[0m\u001B[0;34m)\u001B[0m\u001B[0;34m,\u001B[0m \u001B[0mcmap\u001B[0m\u001B[0;34m=\u001B[0m\u001B[0;34m\"gray\"\u001B[0m \u001B[0;34m)\u001B[0m\u001B[0;34m\u001B[0m\u001B[0;34m\u001B[0m\u001B[0m\n",
      "\u001B[0;31mIndexError\u001B[0m: index 1 is out of bounds for axis 0 with size 1"
     ]
    },
    {
     "data": {
      "image/png": "[encoded data removed]",
      "text/plain": [
       "<Figure size 1440x1440 with 20 Axes>"
      ]
     },
     "metadata": {
      "needs_background": "light"
     },
     "output_type": "display_data"
    }
   ],
   "source": [
    "# the best_image is a tensor, to display it, we have to convert to numpy, or use the fancy pytorch plotting. \n",
    "#Here I'm using numpy. for plotting it needs 2 dimensions, that's what the squeeze is doing.\n",
    "fig, axs = plt.subplots(4, 5, figsize=(20,20))\n",
    "\n",
    "\n",
    "for i in range(0,5):\n",
    "    axs[0][i].imshow(batch.inputs[i].numpy()[0,:,:].squeeze(), cmap=\"gray\" )\n",
    "    axs[1][i].imshow(batch.inputs[i].numpy()[1,:,:].squeeze())\n",
    "for i in range(0, 5):\n",
    "    axs[2][i].imshow(batch.inputs[i+5].numpy()[0,:,:].squeeze(), cmap=\"gray\" )\n",
    "    axs[3][i].imshow(batch.inputs[i+5].numpy()[1,:,:].squeeze())\n",
    "fig.tight_layout()\n",
    "plt.subplots_adjust(left=0, bottom=0, right=1, top=1, wspace=0, hspace=0)\n",
    "# the images are cropped to only a very small window, so they dont look so meaningful here."
   ]
  },
  {
   "cell_type": "code",
   "execution_count": null,
   "metadata": {},
   "outputs": [],
   "source": []
  },
  {
   "cell_type": "code",
   "execution_count": 35,
   "metadata": {},
   "outputs": [
    {
     "name": "stdout",
     "output_type": "stream",
     "text": [
      "<class 'torch.Tensor'>\n",
      "image_dimensions: torch.Size([64, 1, 67, 67])\n",
      "number of neurons of that session:  torch.Size([64, 14])\n",
      "total training batches:  187\n"
     ]
    }
   ],
   "source": [
    "inputs, targets = next(iter(a_dataloader))\n",
    "\n",
    "print(type(targets))\n",
    "\n",
    "#assert torch.all(torch.eq(targets, targets2))\n",
    "print(\"image_dimensions:\", inputs.shape)\n",
    "print(\"number of neurons of that session: \", targets.shape)\n",
    "print(\"total training batches: \", len(a_dataloader))"
   ]
  },
  {
   "cell_type": "code",
   "execution_count": 36,
   "metadata": {},
   "outputs": [
    {
     "name": "stdout",
     "output_type": "stream",
     "text": [
      "torch.Size([11951, 1, 67, 67])\n"
     ]
    }
   ],
   "source": [
    "# here's how to get the whole dataset at once\n",
    "\n",
    "# input image dimension\n",
    "input_shape = dataloaders[\"train\"][first_session_ID].dataset[:].inputs.shape\n",
    "print(input_shape)\n",
    "# total images = 16064\n",
    "# dims: N x C x W x H"
   ]
  },
  {
   "cell_type": "code",
   "execution_count": 37,
   "metadata": {},
   "outputs": [
    {
     "name": "stdout",
     "output_type": "stream",
     "text": [
      "torch.Size([11951, 14])\n"
     ]
    }
   ],
   "source": [
    "# outpt dimensions: neuronal firing rates'\n",
    "output_shape = dataloaders[\"train\"][first_session_ID].dataset[:].targets.shape\n",
    "\n",
    "print(output_shape)\n",
    "# Output: 14 Neurons, with N spikes over 60 ms"
   ]
  },
  {
   "cell_type": "markdown",
   "metadata": {},
   "source": [
    "## Model Building"
   ]
  },
  {
   "cell_type": "markdown",
   "metadata": {},
   "source": [
    "Models are built using the mlutils repo from sinzlab. They consist of a convolutional core (with a user-specified number of layers), and a readout (spatial transformer readout, described in Sinz et al, 2018, NeurIPS)."
   ]
  },
  {
   "cell_type": "markdown",
   "metadata": {},
   "source": [
    "### Building a model"
   ]
  },
  {
   "cell_type": "code",
   "execution_count": 38,
   "metadata": {},
   "outputs": [
    {
     "ename": "ModuleNotFoundError",
     "evalue": "No module named 'mlutils'",
     "output_type": "error",
     "traceback": [
      "\u001B[0;31m---------------------------------------------------------------------------\u001B[0m",
      "\u001B[0;31mModuleNotFoundError\u001B[0m                       Traceback (most recent call last)",
      "\u001B[0;32m<ipython-input-38-e02f2c502e5e>\u001B[0m in \u001B[0;36m<module>\u001B[0;34m\u001B[0m\n\u001B[1;32m     14\u001B[0m   'init_sigma': 0.5851238789405838}\n\u001B[1;32m     15\u001B[0m \u001B[0;34m\u001B[0m\u001B[0m\n\u001B[0;32m---> 16\u001B[0;31m \u001B[0mmodel\u001B[0m \u001B[0;34m=\u001B[0m \u001B[0mbuilder\u001B[0m\u001B[0;34m.\u001B[0m\u001B[0mget_model\u001B[0m\u001B[0;34m(\u001B[0m\u001B[0mmodel_fn\u001B[0m\u001B[0;34m,\u001B[0m \u001B[0mmodel_config\u001B[0m\u001B[0;34m,\u001B[0m \u001B[0mdataloaders\u001B[0m\u001B[0;34m=\u001B[0m\u001B[0mdataloaders\u001B[0m\u001B[0;34m,\u001B[0m\u001B[0mseed\u001B[0m\u001B[0;34m=\u001B[0m\u001B[0;36m1000\u001B[0m\u001B[0;34m)\u001B[0m\u001B[0;34m\u001B[0m\u001B[0;34m\u001B[0m\u001B[0m\n\u001B[0m\u001B[1;32m     17\u001B[0m \u001B[0mprint\u001B[0m\u001B[0;34m(\u001B[0m\u001B[0mmodel\u001B[0m\u001B[0;34m)\u001B[0m\u001B[0;34m\u001B[0m\u001B[0;34m\u001B[0m\u001B[0m\n",
      "\u001B[0;32m/src/nnfabrik/nnfabrik/builder.py\u001B[0m in \u001B[0;36mget_model\u001B[0;34m(model_fn, model_config, dataloaders, seed, state_dict, strict, data_info)\u001B[0m\n\u001B[1;32m     66\u001B[0m \u001B[0;34m\u001B[0m\u001B[0m\n\u001B[1;32m     67\u001B[0m     \u001B[0;32mif\u001B[0m \u001B[0misinstance\u001B[0m\u001B[0;34m(\u001B[0m\u001B[0mmodel_fn\u001B[0m\u001B[0;34m,\u001B[0m \u001B[0mstr\u001B[0m\u001B[0;34m)\u001B[0m\u001B[0;34m:\u001B[0m\u001B[0;34m\u001B[0m\u001B[0;34m\u001B[0m\u001B[0m\n\u001B[0;32m---> 68\u001B[0;31m         \u001B[0mmodel_fn\u001B[0m \u001B[0;34m=\u001B[0m \u001B[0mresolve_model\u001B[0m\u001B[0;34m(\u001B[0m\u001B[0mmodel_fn\u001B[0m\u001B[0;34m)\u001B[0m\u001B[0;34m\u001B[0m\u001B[0;34m\u001B[0m\u001B[0m\n\u001B[0m\u001B[1;32m     69\u001B[0m \u001B[0;34m\u001B[0m\u001B[0m\n\u001B[1;32m     70\u001B[0m     net = (\n",
      "\u001B[0;32m/src/nnfabrik/nnfabrik/builder.py\u001B[0m in \u001B[0;36mresolve_fn\u001B[0;34m(fn_name, default_base)\u001B[0m\n\u001B[1;32m     20\u001B[0m     \u001B[0;32mtry\u001B[0m\u001B[0;34m:\u001B[0m\u001B[0;34m\u001B[0m\u001B[0;34m\u001B[0m\u001B[0m\n\u001B[1;32m     21\u001B[0m         fn_obj = (\n\u001B[0;32m---> 22\u001B[0;31m             \u001B[0mdynamic_import\u001B[0m\u001B[0;34m(\u001B[0m\u001B[0mmodule_path\u001B[0m\u001B[0;34m,\u001B[0m \u001B[0mclass_name\u001B[0m\u001B[0;34m)\u001B[0m\u001B[0;34m\u001B[0m\u001B[0;34m\u001B[0m\u001B[0m\n\u001B[0m\u001B[1;32m     23\u001B[0m             \u001B[0;32mif\u001B[0m \u001B[0mmodule_path\u001B[0m\u001B[0;34m\u001B[0m\u001B[0;34m\u001B[0m\u001B[0m\n\u001B[1;32m     24\u001B[0m             \u001B[0;32melse\u001B[0m \u001B[0meval\u001B[0m\u001B[0;34m(\u001B[0m\u001B[0;34m\"{}.{}\"\u001B[0m\u001B[0;34m.\u001B[0m\u001B[0mformat\u001B[0m\u001B[0;34m(\u001B[0m\u001B[0mdefault_base\u001B[0m\u001B[0;34m,\u001B[0m \u001B[0mclass_name\u001B[0m\u001B[0;34m)\u001B[0m\u001B[0;34m)\u001B[0m\u001B[0;34m\u001B[0m\u001B[0;34m\u001B[0m\u001B[0m\n",
      "\u001B[0;32m/src/nnfabrik/nnfabrik/utility/nnf_helper.py\u001B[0m in \u001B[0;36mdynamic_import\u001B[0;34m(abs_module_path, class_name)\u001B[0m\n\u001B[1;32m     11\u001B[0m \u001B[0;34m\u001B[0m\u001B[0m\n\u001B[1;32m     12\u001B[0m \u001B[0;32mdef\u001B[0m \u001B[0mdynamic_import\u001B[0m\u001B[0;34m(\u001B[0m\u001B[0mabs_module_path\u001B[0m\u001B[0;34m,\u001B[0m \u001B[0mclass_name\u001B[0m\u001B[0;34m)\u001B[0m\u001B[0;34m:\u001B[0m\u001B[0;34m\u001B[0m\u001B[0;34m\u001B[0m\u001B[0m\n\u001B[0;32m---> 13\u001B[0;31m     \u001B[0mmodule_object\u001B[0m \u001B[0;34m=\u001B[0m \u001B[0mimport_module\u001B[0m\u001B[0;34m(\u001B[0m\u001B[0mabs_module_path\u001B[0m\u001B[0;34m)\u001B[0m\u001B[0;34m\u001B[0m\u001B[0;34m\u001B[0m\u001B[0m\n\u001B[0m\u001B[1;32m     14\u001B[0m     \u001B[0mtarget_class\u001B[0m \u001B[0;34m=\u001B[0m \u001B[0mgetattr\u001B[0m\u001B[0;34m(\u001B[0m\u001B[0mmodule_object\u001B[0m\u001B[0;34m,\u001B[0m \u001B[0mclass_name\u001B[0m\u001B[0;34m)\u001B[0m\u001B[0;34m\u001B[0m\u001B[0;34m\u001B[0m\u001B[0m\n\u001B[1;32m     15\u001B[0m     \u001B[0;32mreturn\u001B[0m \u001B[0mtarget_class\u001B[0m\u001B[0;34m\u001B[0m\u001B[0;34m\u001B[0m\u001B[0m\n",
      "\u001B[0;32m/usr/lib/python3.8/importlib/__init__.py\u001B[0m in \u001B[0;36mimport_module\u001B[0;34m(name, package)\u001B[0m\n\u001B[1;32m    125\u001B[0m                 \u001B[0;32mbreak\u001B[0m\u001B[0;34m\u001B[0m\u001B[0;34m\u001B[0m\u001B[0m\n\u001B[1;32m    126\u001B[0m             \u001B[0mlevel\u001B[0m \u001B[0;34m+=\u001B[0m \u001B[0;36m1\u001B[0m\u001B[0;34m\u001B[0m\u001B[0;34m\u001B[0m\u001B[0m\n\u001B[0;32m--> 127\u001B[0;31m     \u001B[0;32mreturn\u001B[0m \u001B[0m_bootstrap\u001B[0m\u001B[0;34m.\u001B[0m\u001B[0m_gcd_import\u001B[0m\u001B[0;34m(\u001B[0m\u001B[0mname\u001B[0m\u001B[0;34m[\u001B[0m\u001B[0mlevel\u001B[0m\u001B[0;34m:\u001B[0m\u001B[0;34m]\u001B[0m\u001B[0;34m,\u001B[0m \u001B[0mpackage\u001B[0m\u001B[0;34m,\u001B[0m \u001B[0mlevel\u001B[0m\u001B[0;34m)\u001B[0m\u001B[0;34m\u001B[0m\u001B[0;34m\u001B[0m\u001B[0m\n\u001B[0m\u001B[1;32m    128\u001B[0m \u001B[0;34m\u001B[0m\u001B[0m\n\u001B[1;32m    129\u001B[0m \u001B[0;34m\u001B[0m\u001B[0m\n",
      "\u001B[0;32m/usr/lib/python3.8/importlib/_bootstrap.py\u001B[0m in \u001B[0;36m_gcd_import\u001B[0;34m(name, package, level)\u001B[0m\n",
      "\u001B[0;32m/usr/lib/python3.8/importlib/_bootstrap.py\u001B[0m in \u001B[0;36m_find_and_load\u001B[0;34m(name, import_)\u001B[0m\n",
      "\u001B[0;32m/usr/lib/python3.8/importlib/_bootstrap.py\u001B[0m in \u001B[0;36m_find_and_load_unlocked\u001B[0;34m(name, import_)\u001B[0m\n",
      "\u001B[0;32m/usr/lib/python3.8/importlib/_bootstrap.py\u001B[0m in \u001B[0;36m_load_unlocked\u001B[0;34m(spec)\u001B[0m\n",
      "\u001B[0;32m/usr/lib/python3.8/importlib/_bootstrap_external.py\u001B[0m in \u001B[0;36mexec_module\u001B[0;34m(self, module)\u001B[0m\n",
      "\u001B[0;32m/usr/lib/python3.8/importlib/_bootstrap.py\u001B[0m in \u001B[0;36m_call_with_frames_removed\u001B[0;34m(f, *args, **kwds)\u001B[0m\n",
      "\u001B[0;32m/src/nnsaliency/lib/nnvision/nnvision/models/__init__.py\u001B[0m in \u001B[0;36m<module>\u001B[0;34m\u001B[0m\n\u001B[0;32m----> 1\u001B[0;31m from .models import (se_core_point_readout, se_core_full_gauss_readout, se_core_gauss_readout,\n\u001B[0m\u001B[1;32m      2\u001B[0m                      \u001B[0mse_core_spatialXfeature_readout\u001B[0m\u001B[0;34m,\u001B[0m \u001B[0mvgg_core_gauss_readout\u001B[0m\u001B[0;34m,\u001B[0m \u001B[0mstacked2d_core_gaussian_readout\u001B[0m\u001B[0;34m,\u001B[0m \u001B[0msimple_core_transfer\u001B[0m\u001B[0;34m,\u001B[0m\u001B[0;34m\u001B[0m\u001B[0;34m\u001B[0m\u001B[0m\n\u001B[1;32m      3\u001B[0m                      se_core_shared_gaussian_readout, augmented_full_readout, stacked2d_core_dn_linear_readout)\n\u001B[1;32m      4\u001B[0m \u001B[0;32mfrom\u001B[0m \u001B[0;34m.\u001B[0m\u001B[0mptrmodels\u001B[0m \u001B[0;32mimport\u001B[0m \u001B[0mtask_core_gauss_readout\u001B[0m\u001B[0;34m,\u001B[0m \u001B[0mtask_core_point_readout\u001B[0m\u001B[0;34m\u001B[0m\u001B[0;34m\u001B[0m\u001B[0m\n",
      "\u001B[0;32m/src/nnsaliency/lib/nnvision/nnvision/models/models.py\u001B[0m in \u001B[0;36m<module>\u001B[0;34m\u001B[0m\n\u001B[1;32m      3\u001B[0m \u001B[0;32mimport\u001B[0m \u001B[0mcopy\u001B[0m\u001B[0;34m\u001B[0m\u001B[0;34m\u001B[0m\u001B[0m\n\u001B[1;32m      4\u001B[0m \u001B[0;34m\u001B[0m\u001B[0m\n\u001B[0;32m----> 5\u001B[0;31m \u001B[0;32mfrom\u001B[0m \u001B[0mmlutils\u001B[0m\u001B[0;34m.\u001B[0m\u001B[0mlayers\u001B[0m\u001B[0;34m.\u001B[0m\u001B[0mcores\u001B[0m \u001B[0;32mimport\u001B[0m \u001B[0mStacked2dCore\u001B[0m\u001B[0;34m\u001B[0m\u001B[0;34m\u001B[0m\u001B[0m\n\u001B[0m\u001B[1;32m      6\u001B[0m \u001B[0;32mfrom\u001B[0m \u001B[0mmlutils\u001B[0m\u001B[0;34m.\u001B[0m\u001B[0mlayers\u001B[0m\u001B[0;34m.\u001B[0m\u001B[0mlegacy\u001B[0m \u001B[0;32mimport\u001B[0m \u001B[0mGaussian2d\u001B[0m\u001B[0;34m\u001B[0m\u001B[0;34m\u001B[0m\u001B[0m\n\u001B[1;32m      7\u001B[0m \u001B[0;32mfrom\u001B[0m \u001B[0mmlutils\u001B[0m\u001B[0;34m.\u001B[0m\u001B[0mlayers\u001B[0m\u001B[0;34m.\u001B[0m\u001B[0mreadouts\u001B[0m \u001B[0;32mimport\u001B[0m \u001B[0mPointPooled2d\u001B[0m\u001B[0;34m,\u001B[0m \u001B[0mFullGaussian2d\u001B[0m\u001B[0;34m\u001B[0m\u001B[0;34m\u001B[0m\u001B[0m\n",
      "\u001B[0;31mModuleNotFoundError\u001B[0m: No module named 'mlutils'"
     ]
    }
   ],
   "source": [
    "model_fn = 'nnvision.models.se_core_full_gauss_readout'\n",
    "model_config = {'pad_input': False,\n",
    "  'gauss_type': 'isotropic',\n",
    "  'gamma_readout': 0.43,\n",
    "  'gamma_input': 10,\n",
    "  'layers': 6,\n",
    "  'depth_separable': True,\n",
    "  'n_se_blocks': 0,\n",
    "  'stack': -1,\n",
    "  'input_kern': 15,\n",
    "  'hidden_kern': 9,\n",
    "  'hidden_channels': 32,\n",
    "  'init_mu_range': 0.1780563002765732,\n",
    "  'init_sigma': 0.5851238789405838}\n",
    "\n",
    "model = builder.get_model(model_fn, model_config, dataloaders=dataloaders,seed=1000)\n",
    "print(model)"
   ]
  },
  {
   "cell_type": "markdown",
   "metadata": {},
   "source": [
    "Above is the model description. Each session has its own readout. The Readout learns an x,y position between -1 and 1, relative to image space, and reads out from that point in feature space. THat means that the effective receptive field size of a unit in the last hidden layer will also be the receptive field size of the neuron. The x/y coordinates can be accessed like this:\n"
   ]
  },
  {
   "cell_type": "code",
   "execution_count": 126,
   "metadata": {},
   "outputs": [
    {
     "data": {
      "text/plain": [
       "torch.Size([32, 2, 20, 20])"
      ]
     },
     "execution_count": 126,
     "metadata": {},
     "output_type": "execute_result"
    }
   ],
   "source": [
    "model.core.features.layer0.conv.weight.data.shape"
   ]
  },
  {
   "cell_type": "code",
   "execution_count": 127,
   "metadata": {},
   "outputs": [
    {
     "data": {
      "text/plain": [
       "<matplotlib.image.AxesImage at 0x7f72cb81a3d0>"
      ]
     },
     "execution_count": 127,
     "metadata": {},
     "output_type": "execute_result"
    },
    {
     "data": {
      "image/png": "[encoded data removed]",
      "text/plain": [
       "<Figure size 288x288 with 1 Axes>"
      ]
     },
     "metadata": {
      "needs_background": "light"
     },
     "output_type": "display_data"
    }
   ],
   "source": [
    "# here's a convolutional filter of the first layer. It's not trained yet, so it looks quite random\n",
    "plt.matshow(model.core.features.layer0.conv.weight.data[0,0])"
   ]
  },
  {
   "cell_type": "markdown",
   "metadata": {},
   "source": [
    "#### Show example readout positions after initialization"
   ]
  },
  {
   "cell_type": "code",
   "execution_count": 128,
   "metadata": {},
   "outputs": [
    {
     "data": {
      "text/plain": [
       "tensor([[[[-0.1536, -0.1007]],\n",
       "\n",
       "         [[-0.1175, -0.0740]],\n",
       "\n",
       "         [[-0.0187,  0.1311]],\n",
       "\n",
       "         [[-0.0306,  0.0183]],\n",
       "\n",
       "         [[-0.0724,  0.0382]],\n",
       "\n",
       "         [[-0.0359, -0.0578]],\n",
       "\n",
       "         [[ 0.1375, -0.1226]],\n",
       "\n",
       "         [[-0.1774, -0.1171]],\n",
       "\n",
       "         [[ 0.1093,  0.1890]],\n",
       "\n",
       "         [[ 0.1505, -0.1442]],\n",
       "\n",
       "         [[-0.1456, -0.0402]],\n",
       "\n",
       "         [[-0.1623, -0.1383]]]], grad_fn=<ClampBackward>)"
      ]
     },
     "execution_count": 128,
     "metadata": {},
     "output_type": "execute_result"
    }
   ],
   "source": [
    "# x/y position (after random initialization, becuse the model isnt trained yet) for each neuron in that session\n",
    "model.readout[first_session_ID].grid"
   ]
  },
  {
   "cell_type": "markdown",
   "metadata": {},
   "source": [
    "## Building a Trainer"
   ]
  },
  {
   "cell_type": "markdown",
   "metadata": {},
   "source": [
    "the trainer is taking care of the whole training process. when the trainer is built, it's a function with the configuration already initialized"
   ]
  },
  {
   "cell_type": "code",
   "execution_count": 129,
   "metadata": {},
   "outputs": [],
   "source": [
    "trainer_fn = 'nnvision.training.nnvision_trainer'\n",
    "trainer_config = dict(max_iter=10, \n",
    "                      lr_decay_steps=4, \n",
    "                      tolerance=0.0005, \n",
    "                      patience=5,\n",
    "                      verbose=False, \n",
    "                      lr_init=0.003,\n",
    "                      avg_loss=False,\n",
    "                      device='cuda')\n",
    "\n",
    "trainer = builder.get_trainer(trainer_fn, trainer_config)"
   ]
  },
  {
   "cell_type": "markdown",
   "metadata": {},
   "source": [
    "## Train a model"
   ]
  },
  {
   "cell_type": "code",
   "execution_count": 132,
   "metadata": {},
   "outputs": [
    {
     "name": "stderr",
     "output_type": "stream",
     "text": [
      "\n",
      "Epoch 1:   0%|          | 0/465 [00:00<?, ?it/s]\u001B[A\n",
      "Epoch 1:   1%|          | 5/465 [00:00<00:12, 38.16it/s]\u001B[A\n",
      "Epoch 1:   2%|▏         | 10/465 [00:00<00:11, 38.35it/s]\u001B[A\n",
      "Epoch 1:   3%|▎         | 15/465 [00:00<00:11, 38.85it/s]\u001B[A\n",
      "Epoch 1:   4%|▍         | 20/465 [00:00<00:11, 38.87it/s]\u001B[A\n",
      "Epoch 1:   5%|▌         | 25/465 [00:00<00:11, 39.26it/s]\u001B[A\n",
      "Epoch 1:   6%|▋         | 30/465 [00:00<00:11, 39.14it/s]\u001B[A\n",
      "Epoch 1:   7%|▋         | 34/465 [00:00<00:11, 39.10it/s]\u001B[A\n",
      "Epoch 1:   8%|▊         | 38/465 [00:00<00:11, 38.23it/s]\u001B[A\n",
      "Epoch 1:   9%|▉         | 42/465 [00:01<00:11, 37.55it/s]\u001B[A\n",
      "Epoch 1:  10%|▉         | 46/465 [00:01<00:11, 37.81it/s]\u001B[A\n",
      "Epoch 1:  11%|█         | 50/465 [00:01<00:10, 37.73it/s]\u001B[A\n",
      "Epoch 1:  12%|█▏        | 55/465 [00:01<00:10, 38.22it/s]\u001B[A\n",
      "Epoch 1:  13%|█▎        | 60/465 [00:01<00:10, 38.37it/s]\u001B[A\n",
      "Epoch 1:  14%|█▍        | 65/465 [00:01<00:10, 38.67it/s]\u001B[A\n",
      "Epoch 1:  15%|█▍        | 69/465 [00:01<00:10, 38.78it/s]\u001B[A\n",
      "Epoch 1:  16%|█▌        | 73/465 [00:01<00:10, 37.75it/s]\u001B[A\n",
      "Epoch 1:  17%|█▋        | 77/465 [00:02<00:10, 37.13it/s]\u001B[A\n",
      "Epoch 1:  17%|█▋        | 81/465 [00:02<00:10, 36.43it/s]\u001B[A\n",
      "Epoch 1:  18%|█▊        | 85/465 [00:02<00:10, 36.68it/s]\u001B[A\n",
      "Epoch 1:  19%|█▉        | 90/465 [00:02<00:10, 37.28it/s]\u001B[A\n",
      "Epoch 1:  20%|██        | 95/465 [00:02<00:09, 38.15it/s]\u001B[A\n",
      "Epoch 1:  21%|██▏       | 99/465 [00:02<00:09, 38.66it/s]\u001B[A\n",
      "Epoch 1:  22%|██▏       | 103/465 [00:02<00:09, 37.89it/s]\u001B[A\n",
      "Epoch 1:  23%|██▎       | 107/465 [00:02<00:09, 36.90it/s]\u001B[A\n",
      "Epoch 1:  24%|██▍       | 111/465 [00:02<00:09, 36.89it/s]\u001B[A\n",
      "Epoch 1:  25%|██▍       | 115/465 [00:03<00:09, 35.66it/s]\u001B[A\n",
      "Epoch 1:  26%|██▌       | 119/465 [00:03<00:09, 36.77it/s]\u001B[A\n",
      "Epoch 1:  26%|██▋       | 123/465 [00:03<00:09, 36.82it/s]\u001B[A\n",
      "Epoch 1:  27%|██▋       | 127/465 [00:03<00:09, 37.28it/s]\u001B[A\n"
     ]
    },
    {
     "ename": "KeyboardInterrupt",
     "evalue": "",
     "output_type": "error",
     "traceback": [
      "\u001B[0;31m---------------------------------------------------------------------------\u001B[0m",
      "\u001B[0;31mKeyboardInterrupt\u001B[0m                         Traceback (most recent call last)",
      "\u001B[0;32m<ipython-input-132-e782aaba0eb9>\u001B[0m in \u001B[0;36m<module>\u001B[0;34m\u001B[0m\n\u001B[1;32m      2\u001B[0m \u001B[0;31m# it's training just for 5 epochs, so that it trains fast.\u001B[0m\u001B[0;34m\u001B[0m\u001B[0;34m\u001B[0m\u001B[0;34m\u001B[0m\u001B[0m\n\u001B[1;32m      3\u001B[0m \u001B[0;34m\u001B[0m\u001B[0m\n\u001B[0;32m----> 4\u001B[0;31m \u001B[0mscore\u001B[0m\u001B[0;34m,\u001B[0m \u001B[0moutput\u001B[0m\u001B[0;34m,\u001B[0m \u001B[0mmodel_state\u001B[0m \u001B[0;34m=\u001B[0m \u001B[0mtrainer\u001B[0m\u001B[0;34m(\u001B[0m\u001B[0mmodel\u001B[0m\u001B[0;34m=\u001B[0m\u001B[0mmodel\u001B[0m\u001B[0;34m,\u001B[0m \u001B[0mdataloaders\u001B[0m\u001B[0;34m=\u001B[0m\u001B[0mdataloaders\u001B[0m\u001B[0;34m,\u001B[0m \u001B[0mseed\u001B[0m\u001B[0;34m=\u001B[0m\u001B[0;36m1000\u001B[0m\u001B[0;34m)\u001B[0m\u001B[0;34m\u001B[0m\u001B[0;34m\u001B[0m\u001B[0m\n\u001B[0m",
      "\u001B[0;32m/notebooks/nnvision/nnvision/nnvision/training/trainers.py\u001B[0m in \u001B[0;36mnnvision_trainer\u001B[0;34m(model, dataloaders, seed, avg_loss, scale_loss, loss_function, stop_function, loss_accum_batch_n, device, verbose, interval, patience, epoch, lr_init, max_iter, maximize, tolerance, restore_best, lr_decay_steps, lr_decay_factor, min_lr, cb, track_training, return_test_score, **kwargs)\u001B[0m\n\u001B[1;32m    121\u001B[0m \u001B[0;34m\u001B[0m\u001B[0m\n\u001B[1;32m    122\u001B[0m             \u001B[0mloss\u001B[0m \u001B[0;34m=\u001B[0m \u001B[0mfull_objective\u001B[0m\u001B[0;34m(\u001B[0m\u001B[0mmodel\u001B[0m\u001B[0;34m,\u001B[0m \u001B[0mdataloaders\u001B[0m\u001B[0;34m[\u001B[0m\u001B[0;34m\"train\"\u001B[0m\u001B[0;34m]\u001B[0m\u001B[0;34m,\u001B[0m \u001B[0mdata_key\u001B[0m\u001B[0;34m,\u001B[0m \u001B[0;34m*\u001B[0m\u001B[0mdata\u001B[0m\u001B[0;34m)\u001B[0m\u001B[0;34m\u001B[0m\u001B[0;34m\u001B[0m\u001B[0m\n\u001B[0;32m--> 123\u001B[0;31m             \u001B[0mloss\u001B[0m\u001B[0;34m.\u001B[0m\u001B[0mbackward\u001B[0m\u001B[0;34m(\u001B[0m\u001B[0;34m)\u001B[0m\u001B[0;34m\u001B[0m\u001B[0;34m\u001B[0m\u001B[0m\n\u001B[0m\u001B[1;32m    124\u001B[0m             \u001B[0;32mif\u001B[0m \u001B[0;34m(\u001B[0m\u001B[0mbatch_no\u001B[0m \u001B[0;34m+\u001B[0m \u001B[0;36m1\u001B[0m\u001B[0;34m)\u001B[0m \u001B[0;34m%\u001B[0m \u001B[0moptim_step_count\u001B[0m \u001B[0;34m==\u001B[0m \u001B[0;36m0\u001B[0m\u001B[0;34m:\u001B[0m\u001B[0;34m\u001B[0m\u001B[0;34m\u001B[0m\u001B[0m\n\u001B[1;32m    125\u001B[0m                 \u001B[0moptimizer\u001B[0m\u001B[0;34m.\u001B[0m\u001B[0mstep\u001B[0m\u001B[0;34m(\u001B[0m\u001B[0;34m)\u001B[0m\u001B[0;34m\u001B[0m\u001B[0;34m\u001B[0m\u001B[0m\n",
      "\u001B[0;32m/usr/local/lib/python3.8/dist-packages/torch/tensor.py\u001B[0m in \u001B[0;36mbackward\u001B[0;34m(self, gradient, retain_graph, create_graph)\u001B[0m\n\u001B[1;32m    193\u001B[0m                 \u001B[0mproducts\u001B[0m\u001B[0;34m.\u001B[0m \u001B[0mDefaults\u001B[0m \u001B[0mto\u001B[0m\u001B[0;31m \u001B[0m\u001B[0;31m`\u001B[0m\u001B[0;31m`\u001B[0m\u001B[0;32mFalse\u001B[0m\u001B[0;31m`\u001B[0m\u001B[0;31m`\u001B[0m\u001B[0;34m.\u001B[0m\u001B[0;34m\u001B[0m\u001B[0;34m\u001B[0m\u001B[0m\n\u001B[1;32m    194\u001B[0m         \"\"\"\n\u001B[0;32m--> 195\u001B[0;31m         \u001B[0mtorch\u001B[0m\u001B[0;34m.\u001B[0m\u001B[0mautograd\u001B[0m\u001B[0;34m.\u001B[0m\u001B[0mbackward\u001B[0m\u001B[0;34m(\u001B[0m\u001B[0mself\u001B[0m\u001B[0;34m,\u001B[0m \u001B[0mgradient\u001B[0m\u001B[0;34m,\u001B[0m \u001B[0mretain_graph\u001B[0m\u001B[0;34m,\u001B[0m \u001B[0mcreate_graph\u001B[0m\u001B[0;34m)\u001B[0m\u001B[0;34m\u001B[0m\u001B[0;34m\u001B[0m\u001B[0m\n\u001B[0m\u001B[1;32m    196\u001B[0m \u001B[0;34m\u001B[0m\u001B[0m\n\u001B[1;32m    197\u001B[0m     \u001B[0;32mdef\u001B[0m \u001B[0mregister_hook\u001B[0m\u001B[0;34m(\u001B[0m\u001B[0mself\u001B[0m\u001B[0;34m,\u001B[0m \u001B[0mhook\u001B[0m\u001B[0;34m)\u001B[0m\u001B[0;34m:\u001B[0m\u001B[0;34m\u001B[0m\u001B[0;34m\u001B[0m\u001B[0m\n",
      "\u001B[0;32m/usr/local/lib/python3.8/dist-packages/torch/autograd/__init__.py\u001B[0m in \u001B[0;36mbackward\u001B[0;34m(tensors, grad_tensors, retain_graph, create_graph, grad_variables)\u001B[0m\n\u001B[1;32m     95\u001B[0m         \u001B[0mretain_graph\u001B[0m \u001B[0;34m=\u001B[0m \u001B[0mcreate_graph\u001B[0m\u001B[0;34m\u001B[0m\u001B[0;34m\u001B[0m\u001B[0m\n\u001B[1;32m     96\u001B[0m \u001B[0;34m\u001B[0m\u001B[0m\n\u001B[0;32m---> 97\u001B[0;31m     Variable._execution_engine.run_backward(\n\u001B[0m\u001B[1;32m     98\u001B[0m         \u001B[0mtensors\u001B[0m\u001B[0;34m,\u001B[0m \u001B[0mgrad_tensors\u001B[0m\u001B[0;34m,\u001B[0m \u001B[0mretain_graph\u001B[0m\u001B[0;34m,\u001B[0m \u001B[0mcreate_graph\u001B[0m\u001B[0;34m,\u001B[0m\u001B[0;34m\u001B[0m\u001B[0;34m\u001B[0m\u001B[0m\n\u001B[1;32m     99\u001B[0m         allow_unreachable=True)  # allow_unreachable flag\n",
      "\u001B[0;31mKeyboardInterrupt\u001B[0m: "
     ]
    }
   ],
   "source": [
    "# here we train the model, the validation correlation is shown after each epoch.\n",
    "# it's training just for 5 epochs, so that it trains fast.\n",
    "\n",
    "score, output, model_state = trainer(model=model, dataloaders=dataloaders, seed=1000)"
   ]
  },
  {
   "cell_type": "code",
   "execution_count": 133,
   "metadata": {},
   "outputs": [
    {
     "name": "stdout",
     "output_type": "stream",
     "text": [
      "0.07048882\n",
      "{'validation_corr': 0.07048882}\n"
     ]
    }
   ],
   "source": [
    "print(score)\n",
    "print(output)"
   ]
  },
  {
   "cell_type": "code",
   "execution_count": 134,
   "metadata": {},
   "outputs": [
    {
     "ename": "NameError",
     "evalue": "name 'get_explainable_var' is not defined",
     "output_type": "error",
     "traceback": [
      "\u001B[0;31m---------------------------------------------------------------------------\u001B[0m",
      "\u001B[0;31mNameError\u001B[0m                                 Traceback (most recent call last)",
      "\u001B[0;32m<ipython-input-134-9311439bd9f6>\u001B[0m in \u001B[0;36m<module>\u001B[0;34m\u001B[0m\n\u001B[1;32m      1\u001B[0m \u001B[0;31m## what about Test accuracy?\u001B[0m\u001B[0;34m\u001B[0m\u001B[0;34m\u001B[0m\u001B[0;34m\u001B[0m\u001B[0m\n\u001B[0;32m----> 2\u001B[0;31m \u001B[0mget_explainable_var\u001B[0m\u001B[0;34m(\u001B[0m\u001B[0mdataloaders\u001B[0m\u001B[0;34m=\u001B[0m\u001B[0mdataloaders\u001B[0m\u001B[0;34m,\u001B[0m \u001B[0mas_dict\u001B[0m\u001B[0;34m=\u001B[0m\u001B[0;32mFalse\u001B[0m\u001B[0;34m,\u001B[0m \u001B[0mper_neuron\u001B[0m\u001B[0;34m=\u001B[0m\u001B[0;32mTrue\u001B[0m\u001B[0;34m,\u001B[0m \u001B[0mrepeat_limit\u001B[0m\u001B[0;34m=\u001B[0m\u001B[0;32mNone\u001B[0m\u001B[0;34m,\u001B[0m \u001B[0mrandomize\u001B[0m\u001B[0;34m=\u001B[0m\u001B[0;32mTrue\u001B[0m\u001B[0;34m)\u001B[0m\u001B[0;34m\u001B[0m\u001B[0;34m\u001B[0m\u001B[0m\n\u001B[0m",
      "\u001B[0;31mNameError\u001B[0m: name 'get_explainable_var' is not defined"
     ]
    }
   ],
   "source": [
    "## what about Test accuracy?\n",
    "get_explainable_var(dataloaders=dataloaders, as_dict=False, per_neuron=True, repeat_limit=None, randomize=True)"
   ]
  },
  {
   "cell_type": "code",
   "execution_count": 252,
   "metadata": {},
   "outputs": [
    {
     "data": {
      "text/plain": [
       "<matplotlib.image.AxesImage at 0x7fe286e115b0>"
      ]
     },
     "execution_count": 252,
     "metadata": {},
     "output_type": "execute_result"
    },
    {
     "data": {
      "image/png": "[encoded data removed]",
      "text/plain": [
       "<Figure size 288x288 with 1 Axes>"
      ]
     },
     "metadata": {
      "needs_background": "light"
     },
     "output_type": "display_data"
    }
   ],
   "source": [
    "# after training, let's look at the convolutional kernel again:\n",
    "# the model is on the GPU now, so we have to convert it back to CPU\n",
    "plt.matshow(model.core.features.layer0.conv.weight.data[0,0].detach().cpu())"
   ]
  },
  {
   "cell_type": "code",
   "execution_count": null,
   "metadata": {},
   "outputs": [],
   "source": [
    "# what a nice and smooth kernel. (well, somewhat.)"
   ]
  },
  {
   "cell_type": "markdown",
   "metadata": {},
   "source": [
    "# Part Two: NNfabrik and DataJoint"
   ]
  },
  {
   "cell_type": "markdown",
   "metadata": {},
   "source": [
    "Instead of using the builder to get the data/model/and trainer, we can use datajoint to manage that process for us.\n",
    "There are Model, Dataset, and Trainer Tables. And each combination in those tables should in principle lead to a fully trained model.\n",
    "For completeness, there is also a Seed table that stores the random seed, and a Fabrikant table, that stores the name and contact details of the creator (=Fabrikant).\n"
   ]
  },
  {
   "cell_type": "markdown",
   "metadata": {},
   "source": [
    "### Make sure that a dj-database is connected. Recommended dj version is 0.12.4"
   ]
  },
  {
   "cell_type": "code",
   "execution_count": null,
   "metadata": {
    "collapsed": false,
    "jupyter": {
     "outputs_hidden": false
    },
    "pycharm": {
     "name": "#%%\n"
    }
   },
   "outputs": [],
   "source": [
    "import datajoint as dj\n",
    "\n",
    "dj.config['enable_python_native_blobs'] = True\n",
    "\n",
    "from nnfabrik.templates.trained_model import TrainedModelBase\n",
    "from nnfabrik.main import *\n",
    "import os\n",
    "\n",
    "if not 'stores' in dj.config:\n",
    "    dj.config['stores'] = {}\n",
    "    \n",
    "dj.config['stores']['minio'] = {  # store in s3\n",
    "    'protocol': 's3',\n",
    "    'endpoint': os.environ.get('MINIO_ENDPOINT', 'DUMMY_ENDPOINT'),\n",
    "    'bucket': 'nnfabrik',\n",
    "    'location': 'dj-store',\n",
    "    'access_key': os.environ.get('MINIO_ACCESS_KEY', 'FAKEKEY'),\n",
    "    'secret_key': os.environ.get('MINIO_SECRET_KEY', 'FAKEKEY')\n",
    "}"
   ]
  },
  {
   "cell_type": "code",
   "execution_count": null,
   "metadata": {},
   "outputs": [],
   "source": [
    "a = Dataset.full_table_name"
   ]
  },
  {
   "cell_type": "code",
   "execution_count": null,
   "metadata": {},
   "outputs": [],
   "source": [
    "Dataset.database"
   ]
  },
  {
   "cell_type": "code",
   "execution_count": null,
   "metadata": {},
   "outputs": [],
   "source": [
    "# change this entry to reflect your datajoint username\n",
    "Fabrikant().insert1(dict(fabrikant_name='kanderer',\n",
    "                         email=\"k.anderer@t-online.de\",\n",
    "                         affiliation='sinzlab',\n",
    "                         dj_username=\"kanderer\"))"
   ]
  },
  {
   "cell_type": "code",
   "execution_count": null,
   "metadata": {},
   "outputs": [],
   "source": [
    "Fabrikant()"
   ]
  },
  {
   "cell_type": "code",
   "execution_count": null,
   "metadata": {},
   "outputs": [],
   "source": [
    "schema"
   ]
  },
  {
   "cell_type": "code",
   "execution_count": null,
   "metadata": {},
   "outputs": [],
   "source": [
    "Seed().insert([{'seed':1000}])\n",
    "Seed()"
   ]
  },
  {
   "cell_type": "markdown",
   "metadata": {},
   "source": [
    "###  add entries for dataset, model, and trainer, with their corresponding configurations"
   ]
  },
  {
   "cell_type": "markdown",
   "metadata": {},
   "source": [
    "#### Dataset"
   ]
  },
  {
   "cell_type": "code",
   "execution_count": null,
   "metadata": {},
   "outputs": [],
   "source": [
    "# adds the dataset_function and dataset config that we defined above to the datase table\n",
    "#Dataset().add_entry(dataset_fn, dataset_config, dataset_comment='CSRF_V1')\n",
    "Dataset()"
   ]
  },
  {
   "cell_type": "markdown",
   "metadata": {},
   "source": [
    "#### Model"
   ]
  },
  {
   "cell_type": "code",
   "execution_count": null,
   "metadata": {},
   "outputs": [],
   "source": [
    "model_fn = 'nnvision.models.se_core_full_gauss_readout'\n",
    "model_config = {'pad_input': False,\n",
    "                'stack': -1,\n",
    "               'depth_separable': True,\n",
    "               'input_kern': 20,\n",
    "               'gamma_input': 11.2,\n",
    "               'gamma_readout': 0.33,\n",
    "               'hidden_dilation': 1,\n",
    "               'hidden_kern': 5,\n",
    "               'n_se_blocks': 0,\n",
    "               'hidden_channels': 32,\n",
    "               'gauss_type': 'isotropic'}                \n",
    "Model().add_entry(model_fn, model_config, model_comment='isotropic')\n",
    "Model()"
   ]
  },
  {
   "cell_type": "code",
   "execution_count": null,
   "metadata": {},
   "outputs": [],
   "source": [
    "trainer_fn = 'nnvision.training.nnvision_trainer'\n",
    "trainer_config = dict(max_iter=5, \n",
    "                      lr_decay_steps=4, \n",
    "                      tolerance=0.0005, \n",
    "                      patience=5,\n",
    "                      verbose=False, \n",
    "                      lr_init=0.0045,\n",
    "                      avg_loss=False,\n",
    "                      device='cuda')\n",
    "\n",
    "#Trainer().add_entry(trainer_fn, trainer_config, trainer_comment=\"max_iter: 5\")\n",
    "Trainer()"
   ]
  },
  {
   "cell_type": "markdown",
   "metadata": {},
   "source": [
    "####  The TrainedModel is a template, which can be found in nnfabrik.template.py"
   ]
  },
  {
   "cell_type": "markdown",
   "metadata": {},
   "source": [
    "the trained model table is taking care of model training, and stores the model state in a part table. For further analyses of the trained model, one can either overwrite the TrainedModel definition by inheriting from the Base template class, or by attaching other tables to trained model."
   ]
  },
  {
   "cell_type": "code",
   "execution_count": null,
   "metadata": {},
   "outputs": [],
   "source": [
    "# creating the simples TrainedModel class\n",
    "@schema\n",
    "class TrainedModel(TrainedModelBase):\n",
    "    table_comment = \"Trained models\"\n",
    "    storage = \"minio\"\n",
    "    model_table = Model\n",
    "    dataset_table = Dataset\n",
    "    trainer_table = Trainer\n",
    "    seed_table = Seed\n",
    "    user_table = Fabrikant"
   ]
  },
  {
   "cell_type": "code",
   "execution_count": null,
   "metadata": {},
   "outputs": [],
   "source": [
    "#dj.Diagram(schema)"
   ]
  },
  {
   "cell_type": "markdown",
   "metadata": {},
   "source": [
    "as primary keys, it has the hashes of all the configurations, and it stores the score, and the output (which are defined in the respective trainer)"
   ]
  },
  {
   "cell_type": "markdown",
   "metadata": {},
   "source": [
    "## Lets populate"
   ]
  },
  {
   "cell_type": "code",
   "execution_count": null,
   "metadata": {},
   "outputs": [],
   "source": [
    "TrainedModel().populate()"
   ]
  },
  {
   "cell_type": "code",
   "execution_count": null,
   "metadata": {},
   "outputs": [],
   "source": [
    "TrainedModel()"
   ]
  },
  {
   "cell_type": "code",
   "execution_count": null,
   "metadata": {},
   "outputs": [],
   "source": [
    "model_hash = TrainedModel().fetch1(\"model_hash\")"
   ]
  },
  {
   "cell_type": "code",
   "execution_count": null,
   "metadata": {},
   "outputs": [],
   "source": [
    "# now if you want to build the model again, we can use the .load_model() function of the trained model table.\n",
    "# To use the load model function, the table needs to be restricted to one Entry. \n",
    "# for example: restricting with a key:\n",
    "some_key = dict(model_hash=model_hash)\n",
    "TrainedModel&some_key"
   ]
  },
  {
   "cell_type": "markdown",
   "metadata": {},
   "source": [
    "# How to Load a Model"
   ]
  },
  {
   "cell_type": "code",
   "execution_count": null,
   "metadata": {},
   "outputs": [],
   "source": [
    "dataloader, model = (TrainedModel & some_key).load_model()"
   ]
  },
  {
   "cell_type": "code",
   "execution_count": null,
   "metadata": {},
   "outputs": [],
   "source": [
    "# that is the trained model, with the state dict loaded and all. lets set to eval and start using it\n",
    "model.eval();"
   ]
  },
  {
   "cell_type": "code",
   "execution_count": null,
   "metadata": {},
   "outputs": [],
   "source": [
    "model"
   ]
  },
  {
   "cell_type": "markdown",
   "metadata": {},
   "source": [
    "# Parameter Extension"
   ]
  },
  {
   "cell_type": "code",
   "execution_count": null,
   "metadata": {},
   "outputs": [],
   "source": [
    "# There's also the parameter extension, so that you can restrict with the config objects as well."
   ]
  },
  {
   "cell_type": "code",
   "execution_count": null,
   "metadata": {},
   "outputs": [],
   "source": [
    "from nnfabrik.utility.dj_helpers import create_param_expansion, make_definition\n",
    "ModelExpanded = create_param_expansion('nnvision.models.se_core_full_gauss_readout', Model,fn_field='model_fn', config_field='model_config')\n",
    "ModelParams = schema(ModelExpanded)"
   ]
  },
  {
   "cell_type": "code",
   "execution_count": null,
   "metadata": {},
   "outputs": [],
   "source": [
    "ModelParams()"
   ]
  },
  {
   "cell_type": "code",
   "execution_count": null,
   "metadata": {},
   "outputs": [],
   "source": [
    "ModelParams.populate()"
   ]
  },
  {
   "cell_type": "code",
   "execution_count": null,
   "metadata": {},
   "outputs": [],
   "source": [
    "ModelParams()"
   ]
  },
  {
   "cell_type": "code",
   "execution_count": null,
   "metadata": {},
   "outputs": [],
   "source": [
    "# for example:\n",
    "Model*ModelParams&\"hidden_kern=5\""
   ]
  },
  {
   "cell_type": "code",
   "execution_count": null,
   "metadata": {},
   "outputs": [],
   "source": [
    "# Now you can just use that for building the model:\n",
    "dataloaders, model =(TrainedModel & ((Model * ModelParams)&\"hidden_kern=5\")).load_model()"
   ]
  },
  {
   "cell_type": "code",
   "execution_count": null,
   "metadata": {},
   "outputs": [],
   "source": []
  },
  {
   "cell_type": "code",
   "execution_count": null,
   "metadata": {},
   "outputs": [],
   "source": []
  }
 ],
 "metadata": {
  "kernelspec": {
   "display_name": "Python 3",
   "language": "python",
   "name": "python3"
  },
  "language_info": {
   "codemirror_mode": {
    "name": "ipython",
    "version": 3
   },
   "file_extension": ".py",
   "mimetype": "text/x-python",
   "name": "python",
   "nbconvert_exporter": "python",
   "pygments_lexer": "ipython3",
   "version": "3.8.0"
  }
 },
 "nbformat": 4,
 "nbformat_minor": 4
}