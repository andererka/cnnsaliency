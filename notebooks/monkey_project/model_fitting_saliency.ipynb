{
 "cells": [
  {
   "cell_type": "markdown",
   "source": [
    "## Model for Saliency"
   ],
   "metadata": {
    "collapsed": false
   }
  },
  {
   "cell_type": "markdown",
   "source": [
    "###### adapted ImacheCache from nnvision and monkey_loaders from nnvision.datasets\n",
    "\n"
   ],
   "metadata": {
    "collapsed": false
   }
  },
  {
   "cell_type": "code",
   "execution_count": null,
   "outputs": [],
   "source": [
    "%load_ext autoreload\n",
    "%autoreload \n",
    "\n",
    "import datajoint as dj\n",
    "dj.config['enable_python_native_blobs'] = True\n",
    "\n",
    "\n",
    "dj.config['database.user']= 'kanderer'\n",
    "dj.config['database.password']= 'enamel-vendetta-deodorant'\n",
    "\n",
    "\n",
    "schema_name = 'nnfabrik_monkey_saliency'\n",
    "\n",
    "schema = dj.schema(schema_name, locals())\n",
    "dj.config['nnfabrik.schema_name'] = schema_name\n"
   ],
   "metadata": {
    "collapsed": false,
    "pycharm": {
     "name": "#%%\n"
    }
   }
  },
  {
   "cell_type": "code",
   "execution_count": null,
   "outputs": [],
   "source": [
    "import torch\n",
    "\n",
    "import nnfabrik\n",
    "from nnfabrik import builder\n",
    "\n",
    "\n",
    "import numpy as np\n",
    "import pickle\n",
    "import os\n",
    "\n",
    "from os import listdir\n",
    "from os.path import isfile, join\n",
    "\n",
    "import matplotlib.pyplot as plt\n",
    "\n",
    "import nnvision\n",
    "\n",
    "from nnvision.utility.measures import get_correlations"
   ],
   "metadata": {
    "collapsed": false,
    "pycharm": {
     "name": "#%%\n"
    }
   }
  },
  {
   "cell_type": "code",
   "execution_count": null,
   "outputs": [],
   "source": [],
   "metadata": {
    "collapsed": false,
    "pycharm": {
     "name": "#%%\n"
    }
   }
  },
  {
   "cell_type": "markdown",
   "source": [
    "# NNfabrik intro: Using the builder to build the dataloader objects, models, trainer"
   ],
   "metadata": {
    "collapsed": false
   }
  },
  {
   "cell_type": "code",
   "execution_count": null,
   "outputs": [],
   "source": [
    "# here's where the data is on the server:\n",
    "os.listdir('/data')"
   ],
   "metadata": {
    "collapsed": false,
    "pycharm": {
     "name": "#%%\n"
    }
   }
  },
  {
   "cell_type": "code",
   "execution_count": null,
   "outputs": [],
   "source": [
    "#### loading monkey data\n",
    "\n",
    "basepath = '/data/monkey/toliaslab/CSRF19_V4'\n",
    "neuronal_data_path = os.path.join(basepath, 'neuronal_data/')\n",
    "neuronal_data_files = [neuronal_data_path + f for f in listdir(neuronal_data_path) if isfile(join(neuronal_data_path, f))]\n",
    "image_cache_path = os.path.join(basepath, 'images')\n",
    "\n",
    "saliency_cache_path = os.path.join(basepath, 'images_saliency')\n",
    "print(saliency_cache_path)"
   ],
   "metadata": {
    "collapsed": false,
    "pycharm": {
     "name": "#%%\n"
    }
   }
  },
  {
   "cell_type": "markdown",
   "source": [
    "# Part Two: NNfabrik and DataJoint"
   ],
   "metadata": {
    "collapsed": false
   }
  },
  {
   "cell_type": "markdown",
   "source": [
    "Instead of using the builder to get the data/model/and trainer, we can use datajoint to manage that process for us.\n",
    "There are Model, Dataset, and Trainer Tables. And each combination in those tables should in principle lead to a fully trained model.\n",
    "For completeness, there is also a Seed table that stores the random seed, and a Fabrikant table, that stores the name and contact details of the creator (=Fabrikant).\n"
   ],
   "metadata": {
    "collapsed": false
   }
  },
  {
   "cell_type": "markdown",
   "source": [
    "### Make sure that a dj-database is connected. Recommended dj version is 0.12.4"
   ],
   "metadata": {
    "collapsed": false
   }
  },
  {
   "cell_type": "code",
   "execution_count": null,
   "outputs": [],
   "source": [
    "import datajoint as dj\n",
    "\n",
    "dj.config['enable_python_native_blobs'] = True\n",
    "\n",
    "from nnfabrik.templates.trained_model import TrainedModelBase\n",
    "from nnfabrik.main import *\n",
    "import os\n",
    "\n",
    "if not 'stores' in dj.config:\n",
    "    dj.config['stores'] = {}\n",
    "    \n",
    "dj.config['stores']['minio'] = {  # store in s3\n",
    "    'protocol': 's3',\n",
    "    'endpoint': os.environ.get('MINIO_ENDPOINT', 'DUMMY_ENDPOINT'),\n",
    "    'bucket': 'nnfabrik',\n",
    "    'location': 'dj-store',\n",
    "    'access_key': os.environ.get('MINIO_ACCESS_KEY', 'FAKEKEY'),\n",
    "    'secret_key': os.environ.get('MINIO_SECRET_KEY', 'FAKEKEY')\n",
    "}"
   ],
   "metadata": {
    "collapsed": false,
    "pycharm": {
     "name": "#%%\n"
    }
   }
  },
  {
   "cell_type": "code",
   "execution_count": null,
   "outputs": [],
   "source": [
    "a = Dataset.full_table_name"
   ],
   "metadata": {
    "collapsed": false,
    "pycharm": {
     "name": "#%%\n"
    }
   }
  },
  {
   "cell_type": "code",
   "execution_count": null,
   "outputs": [],
   "source": [
    "Dataset.database"
   ],
   "metadata": {
    "collapsed": false,
    "pycharm": {
     "name": "#%%\n"
    }
   }
  },
  {
   "cell_type": "code",
   "execution_count": null,
   "outputs": [],
   "source": [
    "# change this entry to reflect your datajoint username\n",
    "Fabrikant().insert1(dict(fabrikant_name='kanderer',\n",
    "                         email=\"k.anderer@t-online.de\",\n",
    "                         affiliation='sinzlab',\n",
    "                         dj_username=\"kanderer\"))"
   ],
   "metadata": {
    "collapsed": false,
    "pycharm": {
     "name": "#%%\n"
    }
   }
  },
  {
   "cell_type": "code",
   "execution_count": null,
   "outputs": [],
   "source": [
    "Fabrikant()"
   ],
   "metadata": {
    "collapsed": false,
    "pycharm": {
     "name": "#%%\n"
    }
   }
  },
  {
   "cell_type": "code",
   "execution_count": null,
   "outputs": [],
   "source": [
    "schema"
   ],
   "metadata": {
    "collapsed": false,
    "pycharm": {
     "name": "#%%\n"
    }
   }
  },
  {
   "cell_type": "code",
   "execution_count": null,
   "outputs": [],
   "source": [
    "Seed().insert([{'seed':1000}])\n",
    "Seed()"
   ],
   "metadata": {
    "collapsed": false,
    "pycharm": {
     "name": "#%%\n"
    }
   }
  },
  {
   "cell_type": "markdown",
   "source": [
    "###  add entries for dataset, model, and trainer, with their corresponding configurations"
   ],
   "metadata": {
    "collapsed": false
   }
  },
  {
   "cell_type": "markdown",
   "source": [
    "#### Dataset"
   ],
   "metadata": {
    "collapsed": false
   }
  },
  {
   "cell_type": "code",
   "execution_count": null,
   "outputs": [],
   "source": [
    "# Specifying the dataset function: its defined in nnvision/datasets, and has to present in the __init__.py there.\n",
    "# Specifying the dataset function: its defined in nnvision/datasets, and has to present in the __init__.py there.\n",
    "dataset_fn = 'nnsaliency.datasets.saliency_loaders.monkey_saliency_loader'\n",
    "dataset_config = {'dataset': 'CSRF_V4',\n",
    "  'neuronal_data_files': ['/data/monkey/toliaslab/CSRF19_V4/neuronal_data/CSRF19_V4_3645713184967.pickle',\n",
    "   '/data/monkey/toliaslab/CSRF19_V4/neuronal_data/CSRF19_V4_3646146362280.pickle',\n",
    "   '/data/monkey/toliaslab/CSRF19_V4/neuronal_data/CSRF19_V4_3646222772876.pickle',\n",
    "   '/data/monkey/toliaslab/CSRF19_V4/neuronal_data/CSRF19_V4_3646321567215.pickle',\n",
    "   '/data/monkey/toliaslab/CSRF19_V4/neuronal_data/CSRF19_V4_3646401671909.pickle',\n",
    "   '/data/monkey/toliaslab/CSRF19_V4/neuronal_data/CSRF19_V4_3646657276979.pickle',\n",
    "   '/data/monkey/toliaslab/CSRF19_V4/neuronal_data/CSRF19_V4_3646747773987.pickle',\n",
    "   '/data/monkey/toliaslab/CSRF19_V4/neuronal_data/CSRF19_V4_3646924284383.pickle',\n",
    "   '/data/monkey/toliaslab/CSRF19_V4/neuronal_data/CSRF19_V4_3647439534447.pickle',\n",
    "   '/data/monkey/toliaslab/CSRF19_V4/neuronal_data/CSRF19_V4_3647531807425.pickle',\n",
    "   '/data/monkey/toliaslab/CSRF19_V4/neuronal_data/CSRF19_V4_3647617982355.pickle',\n",
    "   '/data/monkey/toliaslab/CSRF19_V4/neuronal_data/CSRF19_V4_3648051669051.pickle',\n",
    "   '/data/monkey/toliaslab/CSRF19_V4/neuronal_data/CSRF19_V4_3648221742562.pickle',\n",
    "   '/data/monkey/toliaslab/CSRF19_V4/neuronal_data/CSRF19_V4_3648475457626.pickle',\n",
    "   '/data/monkey/toliaslab/CSRF19_V4/neuronal_data/CSRF19_V4_3648644839726.pickle',\n",
    "   '/data/monkey/toliaslab/CSRF19_V4/neuronal_data/CSRF19_V4_3649169411059.pickle',\n",
    "   '/data/monkey/toliaslab/CSRF19_V4/neuronal_data/CSRF19_V4_3649252123347.pickle',\n",
    "   '/data/monkey/toliaslab/CSRF19_V4/neuronal_data/CSRF19_V4_3649689088057.pickle',\n",
    "   '/data/monkey/toliaslab/CSRF19_V4/neuronal_data/CSRF19_V4_3649771255234.pickle',\n",
    "   '/data/monkey/toliaslab/CSRF19_V4/neuronal_data/CSRF19_V4_3650037309346.pickle',\n",
    "   '/data/monkey/toliaslab/CSRF19_V4/neuronal_data/CSRF19_V4_3650459721914.pickle',\n",
    "   '/data/monkey/toliaslab/CSRF19_V4/neuronal_data/CSRF19_V4_3651417046988.pickle',\n",
    "   '/data/monkey/toliaslab/CSRF19_V4/neuronal_data/CSRF19_V4_3652197206019.pickle',\n",
    "   '/data/monkey/toliaslab/CSRF19_V4/neuronal_data/CSRF19_V4_3652885366025.pickle',\n",
    "   '/data/monkey/toliaslab/CSRF19_V4/neuronal_data/CSRF19_V4_3653061170515.pickle',\n",
    "   '/data/monkey/toliaslab/CSRF19_V4/neuronal_data/CSRF19_V4_3653226873615.pickle',\n",
    "   '/data/monkey/toliaslab/CSRF19_V4/neuronal_data/CSRF19_V4_3653320713405.pickle',\n",
    "   '/data/monkey/toliaslab/CSRF19_V4/neuronal_data/CSRF19_V4_3653578665399.pickle',\n",
    "   '/data/monkey/toliaslab/CSRF19_V4/neuronal_data/CSRF19_V4_3653924870701.pickle',\n",
    "   '/data/monkey/toliaslab/CSRF19_V4/neuronal_data/CSRF19_V4_3654009687031.pickle',\n",
    "   '/data/monkey/toliaslab/CSRF19_V4/neuronal_data/CSRF19_V4_3654087847388.pickle'],\n",
    "  'image_cache_path': '/data/monkey/toliaslab/CSRF19_V4/images/',\n",
    "     'saliency_cache_path': '/data/monkey/toliaslab/CSRF19_V4/images_saliency_scaled/',\n",
    "  'crop': [(68, 0), (126, 126)],\n",
    "  'subsample': 1,\n",
    "  'scale': 0.4,\n",
    "  'seed': 1000,\n",
    "  'batch_size': 64,\n",
    "  'time_bins_sum': (3, 4, 5, 6, 7, 8, 9, 10, 11),\n",
    "                  'gradient': False,\n",
    "                  'logarithm': True\n",
    "                 }\n"
   ],
   "metadata": {
    "collapsed": false,
    "pycharm": {
     "name": "#%%\n"
    }
   }
  },
  {
   "cell_type": "code",
   "execution_count": null,
   "outputs": [],
   "source": [
    "# adds the dataset_function and dataset config that we defined above to the datase table\n",
    "#Dataset().add_entry(dataset_fn, dataset_config, dataset_comment='CSRF_V1')\n",
    "Dataset()"
   ],
   "metadata": {
    "collapsed": false,
    "pycharm": {
     "name": "#%%\n"
    }
   }
  },
  {
   "cell_type": "markdown",
   "source": [
    "#### Model"
   ],
   "metadata": {
    "collapsed": false
   }
  },
  {
   "cell_type": "code",
   "execution_count": null,
   "outputs": [],
   "source": [
    "model_fn = 'nnvision.models.se_core_full_gauss_readout'\n",
    "model_config = {'pad_input': False,\n",
    "  'gauss_type': 'isotropic',\n",
    "  'gamma_readout': 0.43,\n",
    "  'gamma_input': 10,\n",
    "  'layers': 6,\n",
    "  'depth_separable': True,\n",
    "  'n_se_blocks': 0,\n",
    "  'stack': -1,\n",
    "  'input_kern': 15,\n",
    "  'hidden_kern': 9,\n",
    "  'hidden_channels': 32,\n",
    "  'init_mu_range': 0.1780563002765732,\n",
    "  'init_sigma': 0.5851238789405838}\n",
    "Model().add_entry(model_fn, model_config, model_comment='isotropic')\n",
    "Model()"
   ],
   "metadata": {
    "collapsed": false,
    "pycharm": {
     "name": "#%%\n"
    }
   }
  },
  {
   "cell_type": "code",
   "execution_count": null,
   "outputs": [],
   "source": [
    "trainer_fn = 'nnvision.training.nnvision_trainer'\n",
    "trainer_config = dict(max_iter=5, \n",
    "                      lr_decay_steps=4, \n",
    "                      tolerance=0.0005, \n",
    "                      patience=5,\n",
    "                      verbose=False, \n",
    "                      lr_init=0.0045,\n",
    "                      avg_loss=False,\n",
    "                      device='cuda')\n",
    "\n",
    "#Trainer().add_entry(trainer_fn, trainer_config, trainer_comment=\"max_iter: 5\")\n",
    "Trainer()"
   ],
   "metadata": {
    "collapsed": false,
    "pycharm": {
     "name": "#%%\n"
    }
   }
  },
  {
   "cell_type": "markdown",
   "source": [
    "####  The TrainedModel is a template, which can be found in nnfabrik.template.py"
   ],
   "metadata": {
    "collapsed": false
   }
  },
  {
   "cell_type": "markdown",
   "source": [
    "the trained model table is taking care of model training, and stores the model state in a part table. For further analyses of the trained model, one can either overwrite the TrainedModel definition by inheriting from the Base template class, or by attaching other tables to trained model."
   ],
   "metadata": {
    "collapsed": false
   }
  },
  {
   "cell_type": "code",
   "execution_count": null,
   "outputs": [],
   "source": [
    "# creating the simples TrainedModel class\n",
    "print(type(TrainedModelBase))\n",
    "\n",
    "@schema\n",
    "class TrainedModel(TrainedModelBase):\n",
    "    table_comment = \"Trained models\"\n",
    "    storage = \"minio\"\n",
    "    model_table = Model\n",
    "    dataset_table = Dataset\n",
    "    trainer_table = Trainer\n",
    "    seed_table = Seed\n",
    "    user_table = Fabrikant"
   ],
   "metadata": {
    "collapsed": false,
    "pycharm": {
     "name": "#%%\n"
    }
   }
  },
  {
   "cell_type": "code",
   "execution_count": null,
   "outputs": [],
   "source": [
    "#dj.Diagram(schema)"
   ],
   "metadata": {
    "collapsed": false,
    "pycharm": {
     "name": "#%%\n"
    }
   }
  },
  {
   "cell_type": "markdown",
   "source": [
    "as primary keys, it has the hashes of all the configurations, and it stores the score, and the output (which are defined in the respective trainer)"
   ],
   "metadata": {
    "collapsed": false
   }
  },
  {
   "cell_type": "markdown",
   "source": [
    "## Lets populate"
   ],
   "metadata": {
    "collapsed": false
   }
  },
  {
   "cell_type": "code",
   "execution_count": null,
   "outputs": [],
   "source": [
    "key = dict(model_hash='cec63aa4435b2a205ec02eafc0a745ee', dataset_hash='cf34e43c337d6eb562802b3e9d3c74fd', trainer_hash = 'f03a6527ab0422767da50e67e2d543ef')\n",
    "TrainedModel().populate(key, reserve_jobs=True)"
   ],
   "metadata": {
    "collapsed": false,
    "pycharm": {
     "name": "#%%\n"
    }
   }
  },
  {
   "cell_type": "code",
   "execution_count": null,
   "outputs": [],
   "source": [
    "TrainedModel()"
   ],
   "metadata": {
    "collapsed": false,
    "pycharm": {
     "name": "#%%\n"
    }
   }
  },
  {
   "cell_type": "code",
   "execution_count": null,
   "outputs": [],
   "source": [
    "model_hash = TrainedModel().fetch1(\"model_hash\")"
   ],
   "metadata": {
    "collapsed": false,
    "pycharm": {
     "name": "#%%\n"
    }
   }
  },
  {
   "cell_type": "code",
   "execution_count": null,
   "outputs": [],
   "source": [
    "# now if you want to build the model again, we can use the .load_model() function of the trained model table.\n",
    "# To use the load model function, the table needs to be restricted to one Entry. \n",
    "# for example: restricting with a key:\n",
    "some_key = dict(model_hash=model_hash)\n",
    "TrainedModel&some_key\n",
    "\n"
   ],
   "metadata": {
    "collapsed": false,
    "pycharm": {
     "name": "#%%\n"
    }
   }
  },
  {
   "cell_type": "markdown",
   "source": [
    "# How to store Test Correlation"
   ],
   "metadata": {
    "collapsed": false,
    "pycharm": {
     "name": "#%% md\n"
    }
   }
  },
  {
   "cell_type": "code",
   "execution_count": null,
   "outputs": [],
   "source": [
    "\n",
    "\n",
    "@schema\n",
    "class TestCorrelation(ScoringBase):\n",
    "    trainedmodel_table = TrainedModel\n",
    "    unit_table = MonkeyExperiment.Units\n",
    "    scoring_function = staticmethod(get_correlations)\n",
    "    scoring_dataset = \"test\"\n",
    "    scoring_attribute = \"test_correlation\"\n",
    "\n",
    "TestCorrelation().populate(example_key, display_progress=True)"
   ],
   "metadata": {
    "collapsed": false,
    "pycharm": {
     "name": "#%%\n"
    }
   }
  },
  {
   "cell_type": "markdown",
   "source": [
    "# How to Load a Model\n"
   ],
   "metadata": {
    "collapsed": false
   }
  },
  {
   "cell_type": "code",
   "execution_count": null,
   "outputs": [],
   "source": [
    "key = dict(model_hash='07b08b47c3f1805168980920767c4e32', dataset_hash='6cdb8f03fa4d0e752d6b2eb886c83e8c', trainer_hash = 'f03a6527ab0422767da50e67e2d543ef')\n",
    "\n",
    "dataloader, model = (TrainedModel & key).load_model()"
   ],
   "metadata": {
    "collapsed": false,
    "pycharm": {
     "name": "#%%\n"
    }
   }
  },
  {
   "cell_type": "code",
   "execution_count": null,
   "outputs": [],
   "source": [
    "# that is the trained model, with the state dict loaded and all. lets set to eval and start using it\n",
    "model.eval();"
   ],
   "metadata": {
    "collapsed": false,
    "pycharm": {
     "name": "#%%\n"
    }
   }
  },
  {
   "cell_type": "code",
   "execution_count": null,
   "outputs": [],
   "source": [
    "from nnvision.utility.measures import get_correlations\n",
    "test_correlation = get_correlations(model, dataloader[\"test\"], device='cuda', as_dict=False, per_neuron=True)\n",
    "\n",
    "print(test_correlation)"
   ],
   "metadata": {
    "collapsed": false,
    "pycharm": {
     "name": "#%%\n"
    }
   }
  },
  {
   "cell_type": "markdown",
   "source": [
    "# Parameter Extension"
   ],
   "metadata": {
    "collapsed": false
   }
  },
  {
   "cell_type": "code",
   "execution_count": null,
   "outputs": [],
   "source": [
    "# There's also the parameter extension, so that you can restrict with the config objects as well."
   ],
   "metadata": {
    "collapsed": false,
    "pycharm": {
     "name": "#%%\n"
    }
   }
  },
  {
   "cell_type": "code",
   "execution_count": null,
   "outputs": [],
   "source": [
    "from nnfabrik.utility.dj_helpers import create_param_expansion, make_definition\n",
    "ModelExpanded = create_param_expansion('nnvision.models.se_core_full_gauss_readout', Model,fn_field='model_fn', config_field='model_config')\n",
    "ModelParams = schema(ModelExpanded)"
   ],
   "metadata": {
    "collapsed": false,
    "pycharm": {
     "name": "#%%\n"
    }
   }
  },
  {
   "cell_type": "code",
   "execution_count": null,
   "outputs": [],
   "source": [
    "ModelParams()"
   ],
   "metadata": {
    "collapsed": false,
    "pycharm": {
     "name": "#%%\n"
    }
   }
  },
  {
   "cell_type": "code",
   "execution_count": null,
   "outputs": [],
   "source": [
    "ModelParams.populate()"
   ],
   "metadata": {
    "collapsed": false,
    "pycharm": {
     "name": "#%%\n"
    }
   }
  },
  {
   "cell_type": "code",
   "execution_count": null,
   "outputs": [],
   "source": [
    "ModelParams()"
   ],
   "metadata": {
    "collapsed": false,
    "pycharm": {
     "name": "#%%\n"
    }
   }
  },
  {
   "cell_type": "code",
   "execution_count": null,
   "outputs": [],
   "source": [
    "# for example:\n",
    "Model*ModelParams&\"hidden_kern=5\""
   ],
   "metadata": {
    "collapsed": false,
    "pycharm": {
     "name": "#%%\n"
    }
   }
  },
  {
   "cell_type": "code",
   "execution_count": null,
   "outputs": [],
   "source": [
    "# Now you can just use that for building the model:\n",
    "dataloaders, model =(TrainedModel & ((Model * ModelParams)&\"hidden_kern=5\")).load_model()"
   ],
   "metadata": {
    "collapsed": false,
    "pycharm": {
     "name": "#%%\n"
    }
   }
  },
  {
   "cell_type": "code",
   "execution_count": null,
   "outputs": [],
   "source": [],
   "metadata": {
    "collapsed": false,
    "pycharm": {
     "name": "#%%\n"
    }
   }
  },
  {
   "cell_type": "code",
   "execution_count": null,
   "outputs": [],
   "source": [],
   "metadata": {
    "collapsed": false,
    "pycharm": {
     "name": "#%%\n"
    }
   }
  }
 ],
 "metadata": {
  "kernelspec": {
   "display_name": "Python 3",
   "language": "python",
   "name": "python3"
  },
  "language_info": {
   "codemirror_mode": {
    "name": "ipython",
    "version": 3
   },
   "file_extension": ".py",
   "mimetype": "text/x-python",
   "name": "python",
   "nbconvert_exporter": "python",
   "pygments_lexer": "ipython3",
   "version": "3.8.0"
  }
 },
 "nbformat": 4,
 "nbformat_minor": 4
}